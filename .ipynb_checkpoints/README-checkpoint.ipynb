{
 "cells": [
  {
   "cell_type": "markdown",
   "metadata": {},
   "source": [
    "<img src=\"See4C.png\", width=150, ALIGN=\"left\", border=20>\n",
    "<center>\n",
    "<h1>See.4C RTE Challenge Starting Kit</h1>\n",
    "<br>This code was tested with <br>\n",
    "Python 2.7.13 | Anaconda 4.3.1 (https://anaconda.org/)<br>\n",
    "Keras 1.2.1 (https://keras.io/)<br>\n",
    "Tensorflow 0.11.0rc2 (follow Keras instructions)<br>\n",
    "</center>\n",
    "<p><br>\n",
    "ALL INFORMATION, SOFTWARE, DOCUMENTATION, AND DATA ARE PROVIDED \"AS-IS\". The SEE.4C CONSORTIUM, AND/OR OTHER ORGANIZERS OR CODE AUTHORS DISCLAIM ANY EXPRESSED OR IMPLIED WARRANTIES, INCLUDING, BUT NOT LIMITED TO, THE IMPLIED WARRANTIES OF MERCHANTABILITY AND FITNESS FOR ANY PARTICULAR PURPOSE, AND THE WARRANTY OF NON-INFRIGEMENT OF ANY THIRD PARTY'S INTELLECTUAL PROPERTY RIGHTS. IN NO EVENT SHALL AUTHORS AND ORGANIZERS BE LIABLE FOR ANY SPECIAL INDIRECT OR CONSEQUENTIAL DAMAGES OR ANY DAMAGES WHATSOEVER ARISING OUT OF OR IN CONNECTION WITH THE USE OR PERFORMANCE OF SOFTWARE, DOCUMENTS, MATERIALS, PUBLICATIONS, OR INFORMATION MADE AVAILABLE FOR THE CHALLENGE.\n"
   ]
  },
  {
   "cell_type": "markdown",
   "metadata": {},
   "source": [
    "# STEP 1: Get Ready!"
   ]
  },
  {
   "cell_type": "markdown",
   "metadata": {},
   "source": [
    "## Where to find Sample Code"
   ]
  },
  {
   "cell_type": "code",
   "execution_count": 1,
   "metadata": {
    "collapsed": false
   },
   "outputs": [],
   "source": [
    "%matplotlib inline\n",
    "%load_ext autoreload\n",
    "%autoreload 2\n",
    "import os, sys\n",
    "root_dir = '.' # We assume that you are running this example where you originally found it.\n",
    "util_dir = os.path.join(root_dir, 'utilities')\n",
    "code_dir = os.path.join(root_dir, 'sample_code')\n",
    "sys.path.append(util_dir)\n",
    "sys.path.append(code_dir)\n",
    "cache_dir = os.path.join(root_dir, 'cache')\n",
    "from data_io import mkdir\n",
    "mkdir(cache_dir) "
   ]
  },
  {
   "cell_type": "markdown",
   "metadata": {},
   "source": [
    "We provide a few classes and function in the sample_code directory."
   ]
  },
  {
   "cell_type": "code",
   "execution_count": 2,
   "metadata": {
    "collapsed": false
   },
   "outputs": [
    {
     "name": "stdout",
     "output_type": "stream",
     "text": [
      "['linear_kernels.py', 'prednet.py', 'prednet_baseline.py', 'prednet_utils.py', 'simple_model.py']\n",
      "[]\n"
     ]
    }
   ],
   "source": [
    "for (path, dirs, files) in os.walk(code_dir): print [file for file in files if file.endswith('.py')]"
   ]
  },
  {
   "cell_type": "markdown",
   "metadata": {},
   "source": [
    "## Where to find Sample Data\n",
    "Data are stored in this example like on the See.4C server (where your code submission are evaluated) in two subdirectories \"train\" and \"adapt\". "
   ]
  },
  {
   "cell_type": "code",
   "execution_count": 3,
   "metadata": {
    "collapsed": false
   },
   "outputs": [
    {
     "name": "stdout",
     "output_type": "stream",
     "text": [
      "./sample_data: 2 files\n",
      "./sample_data/adapt: 69 files\n",
      "./sample_data/train: 1 files\n",
      "./sample_data/train/Xm1: 289 files\n"
     ]
    }
   ],
   "source": [
    "data_dir = os.path.join(root_dir, 'sample_data')\n",
    "for (path, dirs, files) in os.walk(data_dir): print \"%s: %d files\" % (path, len(files))"
   ]
  },
  {
   "cell_type": "markdown",
   "metadata": {},
   "source": [
    "The \"train\" directory contains sub-directories named \"Xmn\", where \"n\" is a number that can range from 1 to 4 (in the sample_data n=1 or n=2).                                    \n",
    "`In the sample data we provide with the starting kit you get only:\n",
    "    Xm1 = sample data,\n",
    "In the feedback phase, you will get more:\n",
    "    Xm2 = \"public\" data,\n",
    "    Xm1 = \"feedback_train\" data. \n",
    "In the validation phase, you will get yet more:\n",
    "    Xm4 = \"public\" data,\n",
    "    Xm3 = \"feedback_train\" data,\n",
    "    Xm2 = \"feedback_adapt\" data,\n",
    "    Xm1 = \"validation_train\" data.`                    \n",
    "In each directory, video clips are stored in the hdf5 format as Xp.h5, where p is the clip number."
   ]
  },
  {
   "cell_type": "markdown",
   "metadata": {},
   "source": [
    "## The DataManager object\n",
    "The DataManager class allows you to painlessly load video clips into an object, as numpy arrays. As RTE data is secret, the spatial information is originally masked. To recover this information, we have implemented the Self Organising Mapping (SOM) in DataManager. This functionality is by default active (DataManager.two_d_map=True) and uses a pre-trained map 'Midx_199.txt'. To turn it off and load simply the original data, you can just set the parameter 'two_d_map=False' when initializing the DataManager object. "
   ]
  },
  {
   "cell_type": "markdown",
   "metadata": {},
   "source": [
    "### Load one statio-temporal sequence"
   ]
  },
  {
   "cell_type": "code",
   "execution_count": 4,
   "metadata": {
    "collapsed": false
   },
   "outputs": [
    {
     "name": "stdout",
     "output_type": "stream",
     "text": [
      "Data Manager :: Version = 1\n",
      "Data Manager :: ========= Loading data from sample_data/adapt/X0.h5\n",
      "[+] Success in  0.04 sec\n"
     ]
    }
   ],
   "source": [
    "from data_manager import DataManager \n",
    "cache_file = os.path.join(cache_dir, \"DM.pickle\") #  This will allow faster reload\n",
    "DM = DataManager(data_file = 'sample_data/adapt/X0.h5', verbose=True, cache_file=cache_file) \n",
    "# DM = DataManager(data_file = 'sample_data/adapt/X0.h5', verbose=True, cache_file=cache_file, two_d_map=False) \n",
    "# set two_d_map=False to load the original data"
   ]
  },
  {
   "cell_type": "markdown",
   "metadata": {},
   "source": [
    "You can also just construct a DM with `DM =  DataManager()`, then call `DM.loadData(data_file = 'xxx')`.\n",
    "\n",
    "DM contains 2 attributes: \n",
    "    - X: ndarray representing an array of feature vectors (frames); frames characterize the power grid state.\n",
    "    - t: ndarray representing the time index (a positive integer)\n",
    "This command just loaded a single sequence of 12 time steps. Original frames have 1916 dimensions, and they are here mapped via SOM to a 2D array of shape (44, 44)."
   ]
  },
  {
   "cell_type": "code",
   "execution_count": 5,
   "metadata": {
    "collapsed": false
   },
   "outputs": [
    {
     "name": "stdout",
     "output_type": "stream",
     "text": [
      "(12, 44, 44)\n",
      "(12, 1)\n"
     ]
    }
   ],
   "source": [
    "print DM.X.shape\n",
    "print DM.t.shape"
   ]
  },
  {
   "cell_type": "markdown",
   "metadata": {},
   "source": [
    "### Save and reload data"
   ]
  },
  {
   "cell_type": "markdown",
   "metadata": {},
   "source": [
    "\n",
    "\n",
    "You can save your DataManager object to a \"pickle\" or \"h5\" file format. The parameter \"frames\" allows you to specify the frames you want to save. For example, save the first 10 frames on pickle format:"
   ]
  },
  {
   "cell_type": "code",
   "execution_count": 6,
   "metadata": {
    "collapsed": false
   },
   "outputs": [
    {
     "name": "stdout",
     "output_type": "stream",
     "text": [
      "done\n",
      "Data Manager :: ========= Saving data to temp/first_10.pickle\n",
      "[+] Success in  0.00 sec\n"
     ]
    },
    {
     "data": {
      "text/plain": [
       "True"
      ]
     },
     "execution_count": 6,
     "metadata": {},
     "output_type": "execute_result"
    }
   ],
   "source": [
    "from data_io import mkdir\n",
    "mkdir('temp')\n",
    "DM.saveData(data_file='temp/first_10', format='pickle', frames=(0, 10)) \n"
   ]
  },
  {
   "cell_type": "markdown",
   "metadata": {},
   "source": [
    "You might want to reload your DataManager object that you have saved before:"
   ]
  },
  {
   "cell_type": "code",
   "execution_count": 7,
   "metadata": {
    "collapsed": false
   },
   "outputs": [
    {
     "name": "stdout",
     "output_type": "stream",
     "text": [
      "Data Manager :: ========= Reloading data from temp/first_10.pickle\n",
      "temp/first_10.pickle\n",
      "[+] Success in  0.00 sec\n",
      "(10, 44, 44)\n",
      "(10, 1)\n"
     ]
    }
   ],
   "source": [
    "DM.reloadData(filename=os.path.join('temp', 'first_10.pickle'))\n",
    "print DM.X.shape\n",
    "print DM.t.shape\n",
    "import shutil # Cleanup\n",
    "shutil.rmtree('temp', ignore_errors=True)"
   ]
  },
  {
   "cell_type": "markdown",
   "metadata": {},
   "source": [
    "Loading a single file is mainly useful if you want perform predictions using a single time series, but you can do more!\n",
    "\n",
    "### Load the whole training dataset\n",
    "For training, you can load the entire training set. Note that this command erases previously loaded data. It may be reloading from a pickle stores in the cache directory (if it exists)."
   ]
  },
  {
   "cell_type": "code",
   "execution_count": 8,
   "metadata": {
    "collapsed": false
   },
   "outputs": [
    {
     "name": "stdout",
     "output_type": "stream",
     "text": [
      "Data Manager :: ========= Reading training data from ./sample_data/train\n",
      "Data Manager :: ========= Reloading data from ./cache/DM.pickle\n",
      "[Errno 2] No such file or directory: './cache/DM.pickle'\n",
      "['Xm1']\n",
      "Data Manager :: ========= Saving data to ./cache/DM.pickle\n",
      "[+] Success in  6.37 sec\n",
      "[+] Success, loaded 289 videos in 181.57 sec\n",
      "(105049, 44, 44)\n",
      "(105049, 1)\n"
     ]
    }
   ],
   "source": [
    "train_data_dir = os.path.join(data_dir, 'train')\n",
    "DM.loadTrainData(train_data_dir)\n",
    "print DM.X.shape\n",
    "print DM.t.shape"
   ]
  },
  {
   "cell_type": "markdown",
   "metadata": {},
   "source": [
    "### Append more data\n",
    "After loading the training data X, you can append to X some additional data from the \"adapt\" directory. Your preditions program will be expected to make prediction on data from the \"adapt\" directory, which will become available progressively."
   ]
  },
  {
   "cell_type": "code",
   "execution_count": 9,
   "metadata": {
    "collapsed": false
   },
   "outputs": [
    {
     "name": "stdout",
     "output_type": "stream",
     "text": [
      "(105061, 44, 44)\n",
      "(105061, 1)\n"
     ]
    }
   ],
   "source": [
    "adapt_data_dir = os.path.join(data_dir, 'adapt')\n",
    "DM.appendSamples(data_file=\"X0\", data_dir=adapt_data_dir) # append adapt/X0.h5 to X\n",
    "print DM.X.shape\n",
    "print DM.t.shape"
   ]
  },
  {
   "cell_type": "markdown",
   "metadata": {},
   "source": [
    "# STEP 2: Explore the data\n",
    "\n",
    "DataManager object also provides methods to help you visualize the data. For example:\n"
   ]
  },
  {
   "cell_type": "code",
   "execution_count": 10,
   "metadata": {
    "collapsed": false
   },
   "outputs": [
    {
     "data": {
      "image/png": "[encoded data removed]",
      "text/plain": [
       "<matplotlib.figure.Figure at 0x108d68410>"
      ]
     },
     "metadata": {},
     "output_type": "display_data"
    }
   ],
   "source": [
    "DM.display(start=0, end=1000, step=100) # display every five frames"
   ]
  },
  {
   "cell_type": "markdown",
   "metadata": {},
   "source": [
    "The original data contains the time of the sample in unix time (seconds since 1970), which is a convention that allows absolute time (dates with arbitrary accuracy) to be represented as numbers. We have reindexed this absolute time as a sequence of integers starting from 0, which corresponds to 1,246,492,800 seconds since 1970. The interval between 2 time indices is 300 seconds, e.g, a file containing 12 frames has time indices [0, 1, 2, ..., 11], corresponding to a duration of $11*300=3300$ seconds. The files and contiguous sequences have a variable number of frames. The goal is to predict 11 frames in the future.\n",
    "The DataManager allows you to append files from the adapt directory:"
   ]
  },
  {
   "cell_type": "code",
   "execution_count": null,
   "metadata": {
    "collapsed": false
   },
   "outputs": [],
   "source": [
    "DM.loadTrainData(train_data_dir)\n",
    "from glob import glob as ls\n",
    "fn = len(ls(adapt_data_dir + '/*.h5'))\n",
    "print 'Appending %d files from %s' % (fn, adapt_data_dir)\n",
    "for i in range(fn):\n",
    "    DM.appendSamples(i, data_dir=adapt_data_dir) \n",
    "import matplotlib.pyplot as plt\n",
    "fnum = len(DM.t)\n",
    "plt.plot(DM.t[1:fnum])\n",
    "plt.xlabel('Frame number')\n",
    "plt.ylabel('Time index')\n",
    "plt.title(\"Found %d contiguous sequences in the first %d frames\" % (list(DM.t[1:fnum]).count(0), fnum))\n"
   ]
  },
  {
   "cell_type": "markdown",
   "metadata": {},
   "source": [
    "# STEP 3: Train, Adapt, and Predict"
   ]
  },
  {
   "cell_type": "markdown",
   "metadata": {},
   "source": [
    "Now you are ready to write your code. Use *simple_model.py* as a template. It has three main functions, \"train\", \"adapt\", and \"predict\"."
   ]
  },
  {
   "cell_type": "code",
   "execution_count": 11,
   "metadata": {
    "collapsed": false
   },
   "outputs": [],
   "source": [
    "from simple_model import Model\n",
    "# from linear_kernels import Model\n",
    "# Model??\n",
    "# Uncomment the previous line if you want to see the code of the model"
   ]
  },
  {
   "cell_type": "markdown",
   "metadata": {},
   "source": [
    "## Train\n",
    "Load the entire training set and train:"
   ]
  },
  {
   "cell_type": "code",
   "execution_count": 12,
   "metadata": {
    "collapsed": false
   },
   "outputs": [
    {
     "name": "stdout",
     "output_type": "stream",
     "text": [
      "Data Manager :: ========= Reading training data from ./sample_data/train\n",
      "Data Manager :: ========= Reloading data from ./cache/DM.pickle\n",
      "./cache/DM.pickle\n",
      "[+] Success in 12.41 sec\n",
      "[+] Success, loaded 0 videos in 12.41 sec\n",
      "Model :: ========= Training model =========\n",
      "[+] Success in  0.00 sec\n"
     ]
    }
   ],
   "source": [
    "M = Model(verbose=True) # No hyper-parameter here, this model just implements persistence :-)\n",
    "DM.loadTrainData(train_data_dir)\n",
    "M.train(DM.X, DM.t)"
   ]
  },
  {
   "cell_type": "markdown",
   "metadata": {},
   "source": [
    "## Adapt\n",
    "Add a few more frames and adapt:"
   ]
  },
  {
   "cell_type": "code",
   "execution_count": 13,
   "metadata": {
    "collapsed": false
   },
   "outputs": [
    {
     "name": "stdout",
     "output_type": "stream",
     "text": [
      "Model :: ========= Adapting model =========\n",
      "[+] Success in  0.00 sec\n"
     ]
    }
   ],
   "source": [
    "DM.appendSamples(data_file=\"X0\", data_dir=adapt_data_dir)\n",
    "M.adapt(DM.X, DM.t) "
   ]
  },
  {
   "cell_type": "markdown",
   "metadata": {},
   "source": [
    "## Predict\n",
    "Predict the next frame_num frames:"
   ]
  },
  {
   "cell_type": "code",
   "execution_count": 14,
   "metadata": {
    "collapsed": false
   },
   "outputs": [
    {
     "name": "stdout",
     "output_type": "stream",
     "text": [
      "Model :: ========= Making predictions =========\n",
      "[+] Success in  0.34 sec\n"
     ]
    }
   ],
   "source": [
    "RESULT = DataManager()\n",
    "frame_num=11\n",
    "RESULT.X = M.predict(DM.X, num_predicted_frames=frame_num)"
   ]
  },
  {
   "cell_type": "code",
   "execution_count": 15,
   "metadata": {
    "collapsed": false
   },
   "outputs": [
    {
     "data": {
      "text/plain": [
       "(11, 32, 32)"
      ]
     },
     "execution_count": 15,
     "metadata": {},
     "output_type": "execute_result"
    }
   ],
   "source": [
    "RESULT.X.shape"
   ]
  },
  {
   "cell_type": "code",
   "execution_count": 16,
   "metadata": {
    "collapsed": false
   },
   "outputs": [
    {
     "data": {
      "image/png": "[encoded data removed]",
      "text/plain": [
       "<matplotlib.figure.Figure at 0x1101b2250>"
      ]
     },
     "metadata": {},
     "output_type": "display_data"
    }
   ],
   "source": [
    "RESULT.display(start=0, end=frame_num-1, step=1) "
   ]
  },
  {
   "cell_type": "markdown",
   "metadata": {},
   "source": [
    "# STEP 4: Compute your Accuracy\n",
    "Prediction accuracy is computed using the RMSE. You can load the next chunk and see whether your predictions are accurate. On the server, when your code is tested, the next chunk is released only when you have made your predictions for the next 8 frames based on previously released data."
   ]
  },
  {
   "cell_type": "code",
   "execution_count": 17,
   "metadata": {
    "collapsed": false
   },
   "outputs": [
    {
     "name": "stdout",
     "output_type": "stream",
     "text": [
      "RMSE =   nan\n"
     ]
    },
    {
     "name": "stderr",
     "output_type": "stream",
     "text": [
      "./utilities/libscores.py:204: RuntimeWarning: invalid value encountered in subtract\n",
      "  score = mvmean((solution-prediction)**2)\n",
      "./utilities/libscores.py:204: RuntimeWarning: overflow encountered in square\n",
      "  score = mvmean((solution-prediction)**2)\n"
     ]
    }
   ],
   "source": [
    "import numpy as np\n",
    "from libscores import mse\n",
    "DM.appendSamples(data_file=\"X1\", data_dir=adapt_data_dir) # Get the next chunk\n",
    "# solution = DM.X[-frame_num:].ravel()\n",
    "# prediction = RESULT.X.ravel()\n",
    "solution = DM.map_back_to_1d(X_2d=DM.X[-frame_num:]).ravel()\n",
    "prediction = RESULT.map_back_to_1d(X_2d = RESULT.X).ravel()\n",
    "print (\"RMSE = %5.2f\" % np.sqrt(mse(solution, prediction)))"
   ]
  },
  {
   "cell_type": "markdown",
   "metadata": {},
   "source": [
    "## Understand the data organization\n",
    "The expected sequence of query and answer videos will be:\n",
    "<pre>\n",
    "input name : number of frames    output name : number of frames\n",
    "\n",
    "X0.h5 : 101 frames               Y0.h5   :   8 frames\n",
    "X1.h5 : 8 frames                 Y1.h5   :   8 frames\n",
    "X2.h5 : 8 frames                 Y2.h5   :   8 frames\n",
    "X3.h5 : 109 frames               Y3.h5   :   8 frames\n",
    "X4.h5 : 8 frames                 Y4.h5   :   8 frames\n",
    "X5.h5 : 8 frames                 Y5.h5   :   8 frames\n",
    "X6.h5 : 109 frames               Y6.h5   :   8 frames     \n",
    "...\n",
    "X599.h5 \n",
    "</pre>"
   ]
  },
  {
   "cell_type": "markdown",
   "metadata": {},
   "source": [
    "## Testing on the entire \"adapt\" series\n",
    "This program tests your data and computes the RMSE on sample data.\n",
    "Point data_dir to the public data if you want a larger sample. It calls predictSpatioTemporal.py, so this is a full test. Scroll down to get your RMSE on sample data. WARNING: This can take long, you may want to comment this out."
   ]
  },
  {
   "cell_type": "code",
   "execution_count": null,
   "metadata": {
    "collapsed": false,
    "scrolled": false
   },
   "outputs": [
    {
     "name": "stdout",
     "output_type": "stream",
     "text": [
      "\n",
      "====> STEP: 0\n",
      "Using input_dir: sample_data\n",
      "Using output_dir: ./results\n",
      "Using code_dir: ./\n",
      "Using cache_dir: ./cache\n",
      "************************************************\n",
      "******** Processing data chunk number 0 ********\n",
      "************************************************\n",
      "Data Manager :: Version = 1\n",
      "Data Manager :: Version = 1\n",
      "Version = Persitent\n",
      "Model :: ========= Adapting model =========\n",
      "[+] Success, model adapted in  0.00 sec\n",
      "Model :: ========= Making predictions =========\n",
      "[+] Success, predictions made in  0.00 sec\n",
      "Data Manager :: ========= Saving data to ./results/Y0.h5\n",
      "[+] Success in  0.00 sec\n",
      "[+] Done\n",
      "[+] Time spent  1.28 sec ::  Time budget 600.00 sec\n",
      "\n",
      "====> STEP: 1\n",
      "Using input_dir: sample_data\n",
      "Using output_dir: ./results\n",
      "Using code_dir: ./\n",
      "Using cache_dir: ./cache\n",
      "************************************************\n",
      "******** Processing data chunk number 1 ********\n",
      "************************************************\n",
      "Data Manager :: Version = 1\n",
      "Data Manager :: Version = 1\n",
      "Version = Persitent\n",
      "Model :: ========= Adapting model =========\n",
      "[+] Success, model adapted in  0.00 sec\n",
      "Model :: ========= Making predictions =========\n",
      "[+] Success, predictions made in  0.00 sec\n",
      "Data Manager :: ========= Saving data to ./results/Y1.h5\n",
      "[+] Success in  0.00 sec\n",
      "[+] Done\n",
      "[+] Time spent  1.43 sec ::  Time budget 600.00 sec\n",
      "\n",
      "====> STEP: 2\n",
      "Using input_dir: sample_data\n",
      "Using output_dir: ./results\n",
      "Using code_dir: ./\n",
      "Using cache_dir: ./cache\n",
      "************************************************\n",
      "******** Processing data chunk number 2 ********\n",
      "************************************************\n",
      "Data Manager :: Version = 1\n",
      "Data Manager :: Version = 1\n",
      "Version = Persitent\n",
      "Model :: ========= Adapting model =========\n",
      "[+] Success, model adapted in  0.00 sec\n",
      "Model :: ========= Making predictions =========\n",
      "[+] Success, predictions made in  0.00 sec\n",
      "Data Manager :: ========= Saving data to ./results/Y2.h5\n",
      "[+] Success in  0.00 sec\n",
      "[+] Done\n",
      "[+] Time spent  1.31 sec ::  Time budget 600.00 sec\n",
      "\n",
      "====> STEP: 3\n",
      "Using input_dir: sample_data\n",
      "Using output_dir: ./results\n",
      "Using code_dir: ./\n",
      "Using cache_dir: ./cache\n",
      "************************************************\n",
      "******** Processing data chunk number 3 ********\n",
      "************************************************\n",
      "Data Manager :: Version = 1\n",
      "Data Manager :: Version = 1\n",
      "Version = Persitent\n",
      "Model :: ========= Adapting model =========\n",
      "[+] Success, model adapted in  0.00 sec\n",
      "Model :: ========= Making predictions =========\n",
      "[+] Success, predictions made in  0.00 sec\n",
      "Data Manager :: ========= Saving data to ./results/Y3.h5\n",
      "[+] Success in  0.00 sec\n",
      "[+] Done\n",
      "[+] Time spent  1.18 sec ::  Time budget 600.00 sec\n",
      "\n",
      "====> STEP: 4\n",
      "Using input_dir: sample_data\n",
      "Using output_dir: ./results\n",
      "Using code_dir: ./\n",
      "Using cache_dir: ./cache\n",
      "************************************************\n",
      "******** Processing data chunk number 4 ********\n",
      "************************************************\n",
      "Data Manager :: Version = 1\n",
      "Data Manager :: Version = 1\n",
      "Version = Persitent\n",
      "Model :: ========= Adapting model =========\n",
      "[+] Success, model adapted in  0.00 sec\n",
      "Model :: ========= Making predictions =========\n",
      "[+] Success, predictions made in  0.00 sec\n",
      "Data Manager :: ========= Saving data to ./results/Y4.h5\n",
      "[+] Success in  0.00 sec\n",
      "[+] Done\n",
      "[+] Time spent  1.22 sec ::  Time budget 600.00 sec\n",
      "\n",
      "====> STEP: 5\n",
      "Using input_dir: sample_data\n",
      "Using output_dir: ./results\n",
      "Using code_dir: ./\n",
      "Using cache_dir: ./cache\n",
      "************************************************\n",
      "******** Processing data chunk number 5 ********\n",
      "************************************************\n",
      "Data Manager :: Version = 1\n",
      "Data Manager :: Version = 1\n",
      "Version = Persitent\n",
      "Model :: ========= Adapting model =========\n",
      "[+] Success, model adapted in  0.00 sec\n",
      "Model :: ========= Making predictions =========\n",
      "[+] Success, predictions made in  0.00 sec\n",
      "Data Manager :: ========= Saving data to ./results/Y5.h5\n",
      "[+] Success in  0.00 sec\n",
      "[+] Done\n",
      "[+] Time spent  1.26 sec ::  Time budget 600.00 sec\n",
      "\n",
      "====> STEP: 6\n",
      "Using input_dir: sample_data\n",
      "Using output_dir: ./results\n",
      "Using code_dir: ./\n",
      "Using cache_dir: ./cache\n",
      "************************************************\n",
      "******** Processing data chunk number 6 ********\n",
      "************************************************\n",
      "Data Manager :: Version = 1\n",
      "Data Manager :: Version = 1\n",
      "Version = Persitent\n",
      "Model :: ========= Adapting model =========\n",
      "[+] Success, model adapted in  0.00 sec\n",
      "Model :: ========= Making predictions =========\n",
      "[+] Success, predictions made in  0.00 sec\n",
      "Data Manager :: ========= Saving data to ./results/Y6.h5\n",
      "[+] Success in  0.00 sec\n",
      "[+] Done\n",
      "[+] Time spent  1.13 sec ::  Time budget 600.00 sec\n",
      "\n",
      "====> STEP: 7\n",
      "Using input_dir: sample_data\n",
      "Using output_dir: ./results\n",
      "Using code_dir: ./\n",
      "Using cache_dir: ./cache\n",
      "************************************************\n",
      "******** Processing data chunk number 7 ********\n",
      "************************************************\n",
      "Data Manager :: Version = 1\n",
      "Data Manager :: Version = 1\n",
      "Version = Persitent\n",
      "Model :: ========= Adapting model =========\n",
      "[+] Success, model adapted in  0.00 sec\n",
      "Model :: ========= Making predictions =========\n",
      "[+] Success, predictions made in  0.00 sec\n",
      "Data Manager :: ========= Saving data to ./results/Y7.h5\n",
      "[+] Success in  0.00 sec\n",
      "[+] Done\n",
      "[+] Time spent  1.13 sec ::  Time budget 600.00 sec\n",
      "\n",
      "====> STEP: 8\n",
      "Using input_dir: sample_data\n",
      "Using output_dir: ./results\n",
      "Using code_dir: ./\n",
      "Using cache_dir: ./cache\n",
      "************************************************\n",
      "******** Processing data chunk number 8 ********\n",
      "************************************************\n",
      "Data Manager :: Version = 1\n",
      "Data Manager :: Version = 1\n",
      "Version = Persitent\n",
      "Model :: ========= Adapting model =========\n",
      "[+] Success, model adapted in  0.00 sec\n",
      "Model :: ========= Making predictions =========\n",
      "[+] Success, predictions made in  0.00 sec\n",
      "Data Manager :: ========= Saving data to ./results/Y8.h5\n",
      "[+] Success in  0.00 sec\n",
      "[+] Done\n",
      "[+] Time spent  1.23 sec ::  Time budget 600.00 sec\n",
      "\n",
      "====> STEP: 9\n",
      "Using input_dir: sample_data\n",
      "Using output_dir: ./results\n",
      "Using code_dir: ./\n",
      "Using cache_dir: ./cache\n",
      "************************************************\n",
      "******** Processing data chunk number 9 ********\n",
      "************************************************\n",
      "Data Manager :: Version = 1\n",
      "Data Manager :: Version = 1\n",
      "Version = Persitent\n",
      "Model :: ========= Adapting model =========\n",
      "[+] Success, model adapted in  0.00 sec\n",
      "Model :: ========= Making predictions =========\n",
      "[+] Success, predictions made in  0.00 sec\n",
      "Data Manager :: ========= Saving data to ./results/Y9.h5\n",
      "[+] Success in  0.00 sec\n",
      "[+] Done\n",
      "[+] Time spent  1.16 sec ::  Time budget 600.00 sec\n",
      "\n",
      "====> STEP: 10\n",
      "Using input_dir: sample_data\n",
      "Using output_dir: ./results\n",
      "Using code_dir: ./\n",
      "Using cache_dir: ./cache\n",
      "************************************************\n",
      "******** Processing data chunk number 10 ********\n",
      "************************************************\n",
      "Data Manager :: Version = 1\n",
      "Data Manager :: Version = 1\n",
      "Version = Persitent\n",
      "Model :: ========= Adapting model =========\n",
      "[+] Success, model adapted in  0.00 sec\n",
      "Model :: ========= Making predictions =========\n",
      "[+] Success, predictions made in  0.00 sec\n",
      "Data Manager :: ========= Saving data to ./results/Y10.h5\n",
      "[+] Success in  0.00 sec\n",
      "[+] Done\n",
      "[+] Time spent  1.22 sec ::  Time budget 600.00 sec\n",
      "\n",
      "====> STEP: 11\n",
      "Using input_dir: sample_data\n",
      "Using output_dir: ./results\n",
      "Using code_dir: ./\n",
      "Using cache_dir: ./cache\n",
      "************************************************\n",
      "******** Processing data chunk number 11 ********\n",
      "************************************************\n",
      "Data Manager :: Version = 1\n",
      "Data Manager :: Version = 1\n",
      "Version = Persitent\n",
      "Model :: ========= Adapting model =========\n",
      "[+] Success, model adapted in  0.00 sec\n",
      "Model :: ========= Making predictions =========\n",
      "[+] Success, predictions made in  0.00 sec\n",
      "Data Manager :: ========= Saving data to ./results/Y11.h5\n",
      "[+] Success in  0.00 sec\n",
      "[+] Done\n",
      "[+] Time spent  1.26 sec ::  Time budget 600.00 sec\n",
      "\n",
      "====> STEP: 12\n",
      "Using input_dir: sample_data\n",
      "Using output_dir: ./results\n",
      "Using code_dir: ./\n",
      "Using cache_dir: ./cache\n",
      "************************************************\n",
      "******** Processing data chunk number 12 ********\n",
      "************************************************\n",
      "Data Manager :: Version = 1\n",
      "Data Manager :: Version = 1\n",
      "Version = Persitent\n",
      "Model :: ========= Adapting model =========\n",
      "[+] Success, model adapted in  0.00 sec\n",
      "Model :: ========= Making predictions =========\n",
      "[+] Success, predictions made in  0.00 sec\n",
      "Data Manager :: ========= Saving data to ./results/Y12.h5\n",
      "[+] Success in  0.00 sec\n",
      "[+] Done\n",
      "[+] Time spent  1.29 sec ::  Time budget 600.00 sec\n",
      "\n",
      "====> STEP: 13\n",
      "Using input_dir: sample_data\n",
      "Using output_dir: ./results\n",
      "Using code_dir: ./\n",
      "Using cache_dir: ./cache\n",
      "************************************************\n",
      "******** Processing data chunk number 13 ********\n",
      "************************************************\n",
      "Data Manager :: Version = 1\n",
      "Data Manager :: Version = 1\n",
      "Version = Persitent\n",
      "Model :: ========= Adapting model =========\n",
      "[+] Success, model adapted in  0.00 sec\n",
      "Model :: ========= Making predictions =========\n",
      "[+] Success, predictions made in  0.00 sec\n",
      "Data Manager :: ========= Saving data to ./results/Y13.h5\n",
      "[+] Success in  0.00 sec\n",
      "[+] Done\n",
      "[+] Time spent  1.15 sec ::  Time budget 600.00 sec\n",
      "\n",
      "====> STEP: 14\n",
      "Using input_dir: sample_data\n",
      "Using output_dir: ./results\n",
      "Using code_dir: ./\n",
      "Using cache_dir: ./cache\n",
      "************************************************\n",
      "******** Processing data chunk number 14 ********\n",
      "************************************************\n",
      "Data Manager :: Version = 1\n",
      "Data Manager :: Version = 1\n",
      "Version = Persitent\n",
      "Model :: ========= Adapting model =========\n",
      "[+] Success, model adapted in  0.00 sec\n",
      "Model :: ========= Making predictions =========\n",
      "[+] Success, predictions made in  0.00 sec\n",
      "Data Manager :: ========= Saving data to ./results/Y14.h5\n",
      "[+] Success in  0.00 sec\n",
      "[+] Done\n",
      "[+] Time spent  1.28 sec ::  Time budget 600.00 sec\n",
      "\n",
      "====> STEP: 15\n",
      "Using input_dir: sample_data\n",
      "Using output_dir: ./results\n",
      "Using code_dir: ./\n",
      "Using cache_dir: ./cache\n",
      "************************************************\n",
      "******** Processing data chunk number 15 ********\n",
      "************************************************\n",
      "Data Manager :: Version = 1\n",
      "Data Manager :: Version = 1\n",
      "Version = Persitent\n",
      "Model :: ========= Adapting model =========\n",
      "[+] Success, model adapted in  0.00 sec\n",
      "Model :: ========= Making predictions =========\n",
      "[+] Success, predictions made in  0.00 sec\n",
      "Data Manager :: ========= Saving data to ./results/Y15.h5\n",
      "[+] Success in  0.00 sec\n",
      "[+] Done\n",
      "[+] Time spent  1.21 sec ::  Time budget 600.00 sec\n",
      "\n",
      "====> STEP: 16\n",
      "Using input_dir: sample_data\n",
      "Using output_dir: ./results\n",
      "Using code_dir: ./\n",
      "Using cache_dir: ./cache\n",
      "************************************************\n",
      "******** Processing data chunk number 16 ********\n",
      "************************************************\n",
      "Data Manager :: Version = 1\n",
      "Data Manager :: Version = 1\n",
      "Version = Persitent\n",
      "Model :: ========= Adapting model =========\n",
      "[+] Success, model adapted in  0.00 sec\n",
      "Model :: ========= Making predictions =========\n",
      "[+] Success, predictions made in  0.00 sec\n",
      "Data Manager :: ========= Saving data to ./results/Y16.h5\n",
      "[+] Success in  0.00 sec\n",
      "[+] Done\n",
      "[+] Time spent  1.21 sec ::  Time budget 600.00 sec\n",
      "\n",
      "====> STEP: 17\n",
      "Using input_dir: sample_data\n",
      "Using output_dir: ./results\n",
      "Using code_dir: ./\n",
      "Using cache_dir: ./cache\n",
      "************************************************\n",
      "******** Processing data chunk number 17 ********\n",
      "************************************************\n",
      "Data Manager :: Version = 1\n",
      "Data Manager :: Version = 1\n",
      "Version = Persitent\n",
      "Model :: ========= Adapting model =========\n",
      "[+] Success, model adapted in  0.00 sec\n",
      "Model :: ========= Making predictions =========\n",
      "[+] Success, predictions made in  0.00 sec\n",
      "Data Manager :: ========= Saving data to ./results/Y17.h5\n",
      "[+] Success in  0.00 sec\n",
      "[+] Done\n",
      "[+] Time spent  1.24 sec ::  Time budget 600.00 sec\n",
      "\n",
      "====> STEP: 18\n",
      "Using input_dir: sample_data\n",
      "Using output_dir: ./results\n",
      "Using code_dir: ./\n",
      "Using cache_dir: ./cache\n",
      "************************************************\n",
      "******** Processing data chunk number 18 ********\n",
      "************************************************\n",
      "Data Manager :: Version = 1\n",
      "Data Manager :: Version = 1\n",
      "Version = Persitent\n",
      "Model :: ========= Adapting model =========\n",
      "[+] Success, model adapted in  0.00 sec\n",
      "Model :: ========= Making predictions =========\n",
      "[+] Success, predictions made in  0.00 sec\n",
      "Data Manager :: ========= Saving data to ./results/Y18.h5\n",
      "[+] Success in  0.00 sec\n",
      "[+] Done\n",
      "[+] Time spent  1.20 sec ::  Time budget 600.00 sec\n",
      "\n",
      "====> STEP: 19\n",
      "Using input_dir: sample_data\n",
      "Using output_dir: ./results\n",
      "Using code_dir: ./\n",
      "Using cache_dir: ./cache\n",
      "************************************************\n",
      "******** Processing data chunk number 19 ********\n",
      "************************************************\n",
      "Data Manager :: Version = 1\n",
      "Data Manager :: Version = 1\n",
      "Version = Persitent\n",
      "Model :: ========= Adapting model =========\n",
      "[+] Success, model adapted in  0.00 sec\n",
      "Model :: ========= Making predictions =========\n",
      "[+] Success, predictions made in  0.00 sec\n",
      "Data Manager :: ========= Saving data to ./results/Y19.h5\n",
      "[+] Success in  0.00 sec\n",
      "[+] Done\n",
      "[+] Time spent  1.13 sec ::  Time budget 600.00 sec\n",
      "\n",
      "====> STEP: 20\n",
      "Using input_dir: sample_data\n",
      "Using output_dir: ./results\n",
      "Using code_dir: ./\n",
      "Using cache_dir: ./cache\n",
      "************************************************\n",
      "******** Processing data chunk number 20 ********\n",
      "************************************************\n",
      "Data Manager :: Version = 1\n",
      "Data Manager :: Version = 1\n",
      "Version = Persitent\n",
      "Model :: ========= Adapting model =========\n",
      "[+] Success, model adapted in  0.00 sec\n",
      "Model :: ========= Making predictions =========\n",
      "[+] Success, predictions made in  0.00 sec\n",
      "Data Manager :: ========= Saving data to ./results/Y20.h5\n",
      "[+] Success in  0.00 sec\n",
      "[+] Done\n",
      "[+] Time spent  1.21 sec ::  Time budget 600.00 sec\n",
      "\n",
      "====> STEP: 21\n",
      "Using input_dir: sample_data\n",
      "Using output_dir: ./results\n",
      "Using code_dir: ./\n",
      "Using cache_dir: ./cache\n",
      "************************************************\n",
      "******** Processing data chunk number 21 ********\n",
      "************************************************\n",
      "Data Manager :: Version = 1\n",
      "Data Manager :: Version = 1\n",
      "Version = Persitent\n",
      "Model :: ========= Adapting model =========\n",
      "[+] Success, model adapted in  0.00 sec\n",
      "Model :: ========= Making predictions =========\n",
      "[+] Success, predictions made in  0.00 sec\n",
      "Data Manager :: ========= Saving data to ./results/Y21.h5\n",
      "[+] Success in  0.00 sec\n",
      "[+] Done\n",
      "[+] Time spent  1.19 sec ::  Time budget 600.00 sec\n",
      "\n",
      "====> STEP: 22\n",
      "Using input_dir: sample_data\n",
      "Using output_dir: ./results\n",
      "Using code_dir: ./\n",
      "Using cache_dir: ./cache\n",
      "************************************************\n",
      "******** Processing data chunk number 22 ********\n",
      "************************************************\n",
      "Data Manager :: Version = 1\n",
      "Data Manager :: Version = 1\n",
      "Version = Persitent\n",
      "Model :: ========= Adapting model =========\n",
      "[+] Success, model adapted in  0.00 sec\n",
      "Model :: ========= Making predictions =========\n",
      "[+] Success, predictions made in  0.00 sec\n",
      "Data Manager :: ========= Saving data to ./results/Y22.h5\n",
      "[+] Success in  0.00 sec\n",
      "[+] Done\n",
      "[+] Time spent  1.17 sec ::  Time budget 600.00 sec\n",
      "\n",
      "====> STEP: 23\n",
      "Using input_dir: sample_data\n",
      "Using output_dir: ./results\n",
      "Using code_dir: ./\n",
      "Using cache_dir: ./cache\n",
      "************************************************\n",
      "******** Processing data chunk number 23 ********\n",
      "************************************************\n",
      "Data Manager :: Version = 1\n",
      "Data Manager :: Version = 1\n",
      "Version = Persitent\n",
      "Model :: ========= Adapting model =========\n",
      "[+] Success, model adapted in  0.00 sec\n",
      "Model :: ========= Making predictions =========\n",
      "[+] Success, predictions made in  0.00 sec\n",
      "Data Manager :: ========= Saving data to ./results/Y23.h5\n",
      "[+] Success in  0.00 sec\n",
      "[+] Done\n",
      "[+] Time spent  1.27 sec ::  Time budget 600.00 sec\n",
      "\n",
      "====> STEP: 24\n",
      "Using input_dir: sample_data\n",
      "Using output_dir: ./results\n",
      "Using code_dir: ./\n",
      "Using cache_dir: ./cache\n",
      "************************************************\n",
      "******** Processing data chunk number 24 ********\n",
      "************************************************\n",
      "Data Manager :: Version = 1\n",
      "Data Manager :: Version = 1\n",
      "Version = Persitent\n",
      "Model :: ========= Adapting model =========\n",
      "[+] Success, model adapted in  0.00 sec\n",
      "Model :: ========= Making predictions =========\n",
      "[+] Success, predictions made in  0.00 sec\n",
      "Data Manager :: ========= Saving data to ./results/Y24.h5\n",
      "[+] Success in  0.00 sec\n",
      "[+] Done\n",
      "[+] Time spent  1.19 sec ::  Time budget 600.00 sec\n",
      "\n",
      "====> STEP: 25\n",
      "Using input_dir: sample_data\n",
      "Using output_dir: ./results\n",
      "Using code_dir: ./\n",
      "Using cache_dir: ./cache\n",
      "************************************************\n",
      "******** Processing data chunk number 25 ********\n",
      "************************************************\n",
      "Data Manager :: Version = 1\n",
      "Data Manager :: Version = 1\n",
      "Version = Persitent\n",
      "Model :: ========= Adapting model =========\n",
      "[+] Success, model adapted in  0.00 sec\n",
      "Model :: ========= Making predictions =========\n",
      "[+] Success, predictions made in  0.00 sec\n",
      "Data Manager :: ========= Saving data to ./results/Y25.h5\n",
      "[+] Success in  0.00 sec\n",
      "[+] Done\n",
      "[+] Time spent  1.18 sec ::  Time budget 600.00 sec\n",
      "\n",
      "====> STEP: 26\n",
      "Using input_dir: sample_data\n",
      "Using output_dir: ./results\n",
      "Using code_dir: ./\n",
      "Using cache_dir: ./cache\n",
      "************************************************\n",
      "******** Processing data chunk number 26 ********\n",
      "************************************************\n",
      "Data Manager :: Version = 1\n",
      "Data Manager :: Version = 1\n",
      "Version = Persitent\n",
      "Model :: ========= Adapting model =========\n",
      "[+] Success, model adapted in  0.00 sec\n",
      "Model :: ========= Making predictions =========\n",
      "[+] Success, predictions made in  0.00 sec\n",
      "Data Manager :: ========= Saving data to ./results/Y26.h5\n",
      "[+] Success in  0.00 sec\n",
      "[+] Done\n",
      "[+] Time spent  1.18 sec ::  Time budget 600.00 sec\n",
      "\n",
      "====> STEP: 27\n",
      "Using input_dir: sample_data\n",
      "Using output_dir: ./results\n",
      "Using code_dir: ./\n",
      "Using cache_dir: ./cache\n",
      "************************************************\n",
      "******** Processing data chunk number 27 ********\n",
      "************************************************\n",
      "Data Manager :: Version = 1\n",
      "Data Manager :: Version = 1\n",
      "Version = Persitent\n",
      "Model :: ========= Adapting model =========\n",
      "[+] Success, model adapted in  0.00 sec\n",
      "Model :: ========= Making predictions =========\n",
      "[+] Success, predictions made in  0.00 sec\n",
      "Data Manager :: ========= Saving data to ./results/Y27.h5\n",
      "[+] Success in  0.00 sec\n",
      "[+] Done\n",
      "[+] Time spent  1.18 sec ::  Time budget 600.00 sec\n",
      "\n",
      "====> STEP: 28\n",
      "Using input_dir: sample_data\n",
      "Using output_dir: ./results\n",
      "Using code_dir: ./\n",
      "Using cache_dir: ./cache\n",
      "************************************************\n",
      "******** Processing data chunk number 28 ********\n",
      "************************************************\n",
      "Data Manager :: Version = 1\n",
      "Data Manager :: Version = 1\n",
      "Version = Persitent\n",
      "Model :: ========= Adapting model =========\n",
      "[+] Success, model adapted in  0.00 sec\n",
      "Model :: ========= Making predictions =========\n",
      "[+] Success, predictions made in  0.00 sec\n",
      "Data Manager :: ========= Saving data to ./results/Y28.h5\n",
      "[+] Success in  0.00 sec\n",
      "[+] Done\n",
      "[+] Time spent  1.22 sec ::  Time budget 600.00 sec\n",
      "\n",
      "====> STEP: 29\n",
      "Using input_dir: sample_data\n",
      "Using output_dir: ./results\n",
      "Using code_dir: ./\n",
      "Using cache_dir: ./cache\n",
      "************************************************\n",
      "******** Processing data chunk number 29 ********\n",
      "************************************************\n",
      "Data Manager :: Version = 1\n",
      "Data Manager :: Version = 1\n",
      "Version = Persitent\n",
      "Model :: ========= Adapting model =========\n",
      "[+] Success, model adapted in  0.00 sec\n",
      "Model :: ========= Making predictions =========\n",
      "[+] Success, predictions made in  0.00 sec\n",
      "Data Manager :: ========= Saving data to ./results/Y29.h5\n",
      "[+] Success in  0.00 sec\n",
      "[+] Done\n",
      "[+] Time spent  1.20 sec ::  Time budget 600.00 sec\n",
      "\n",
      "====> STEP: 30\n",
      "Using input_dir: sample_data\n",
      "Using output_dir: ./results\n",
      "Using code_dir: ./\n",
      "Using cache_dir: ./cache\n",
      "************************************************\n",
      "******** Processing data chunk number 30 ********\n",
      "************************************************\n",
      "Data Manager :: Version = 1\n",
      "Data Manager :: Version = 1\n",
      "Version = Persitent\n",
      "Model :: ========= Adapting model =========\n",
      "[+] Success, model adapted in  0.00 sec\n",
      "Model :: ========= Making predictions =========\n",
      "[+] Success, predictions made in  0.00 sec\n",
      "Data Manager :: ========= Saving data to ./results/Y30.h5\n",
      "[+] Success in  0.00 sec\n",
      "[+] Done\n",
      "[+] Time spent  1.18 sec ::  Time budget 600.00 sec\n",
      "\n",
      "====> STEP: 31\n",
      "Using input_dir: sample_data\n",
      "Using output_dir: ./results\n",
      "Using code_dir: ./\n",
      "Using cache_dir: ./cache\n",
      "************************************************\n",
      "******** Processing data chunk number 31 ********\n",
      "************************************************\n",
      "Data Manager :: Version = 1\n",
      "Data Manager :: Version = 1\n",
      "Version = Persitent\n",
      "Model :: ========= Adapting model =========\n",
      "[+] Success, model adapted in  0.00 sec\n",
      "Model :: ========= Making predictions =========\n",
      "[+] Success, predictions made in  0.00 sec\n",
      "Data Manager :: ========= Saving data to ./results/Y31.h5\n",
      "[+] Success in  0.00 sec\n",
      "[+] Done\n",
      "[+] Time spent  1.37 sec ::  Time budget 600.00 sec\n",
      "\n",
      "====> STEP: 32\n",
      "Using input_dir: sample_data\n",
      "Using output_dir: ./results\n",
      "Using code_dir: ./\n",
      "Using cache_dir: ./cache\n",
      "************************************************\n",
      "******** Processing data chunk number 32 ********\n",
      "************************************************\n",
      "Data Manager :: Version = 1\n",
      "Data Manager :: Version = 1\n",
      "Version = Persitent\n",
      "Model :: ========= Adapting model =========\n",
      "[+] Success, model adapted in  0.00 sec\n",
      "Model :: ========= Making predictions =========\n",
      "[+] Success, predictions made in  0.00 sec\n",
      "Data Manager :: ========= Saving data to ./results/Y32.h5\n",
      "[+] Success in  0.08 sec\n",
      "[+] Done\n",
      "[+] Time spent  1.42 sec ::  Time budget 600.00 sec\n",
      "\n",
      "====> STEP: 33\n",
      "Using input_dir: sample_data\n",
      "Using output_dir: ./results\n",
      "Using code_dir: ./\n",
      "Using cache_dir: ./cache\n",
      "************************************************\n",
      "******** Processing data chunk number 33 ********\n",
      "************************************************\n",
      "Data Manager :: Version = 1\n",
      "Data Manager :: Version = 1\n",
      "Version = Persitent\n",
      "Model :: ========= Adapting model =========\n",
      "[+] Success, model adapted in  0.00 sec\n",
      "Model :: ========= Making predictions =========\n",
      "[+] Success, predictions made in  0.00 sec\n",
      "Data Manager :: ========= Saving data to ./results/Y33.h5\n",
      "[+] Success in  0.00 sec\n",
      "[+] Done\n",
      "[+] Time spent  1.18 sec ::  Time budget 600.00 sec\n",
      "\n",
      "====> STEP: 34\n",
      "Using input_dir: sample_data\n",
      "Using output_dir: ./results\n",
      "Using code_dir: ./\n",
      "Using cache_dir: ./cache\n",
      "************************************************\n",
      "******** Processing data chunk number 34 ********\n",
      "************************************************\n",
      "Data Manager :: Version = 1\n",
      "Data Manager :: Version = 1\n",
      "Version = Persitent\n",
      "Model :: ========= Adapting model =========\n",
      "[+] Success, model adapted in  0.00 sec\n",
      "Model :: ========= Making predictions =========\n",
      "[+] Success, predictions made in  0.00 sec\n",
      "Data Manager :: ========= Saving data to ./results/Y34.h5\n",
      "[+] Success in  0.00 sec\n",
      "[+] Done\n",
      "[+] Time spent  1.20 sec ::  Time budget 600.00 sec\n",
      "\n",
      "====> STEP: 35\n",
      "Using input_dir: sample_data\n",
      "Using output_dir: ./results\n",
      "Using code_dir: ./\n",
      "Using cache_dir: ./cache\n",
      "************************************************\n",
      "******** Processing data chunk number 35 ********\n",
      "************************************************\n",
      "Data Manager :: Version = 1\n",
      "Data Manager :: Version = 1\n",
      "Version = Persitent\n",
      "Model :: ========= Adapting model =========\n",
      "[+] Success, model adapted in  0.00 sec\n",
      "Model :: ========= Making predictions =========\n",
      "[+] Success, predictions made in  0.00 sec\n",
      "Data Manager :: ========= Saving data to ./results/Y35.h5\n",
      "[+] Success in  0.00 sec\n",
      "[+] Done\n",
      "[+] Time spent  1.18 sec ::  Time budget 600.00 sec\n",
      "\n",
      "====> STEP: 36\n",
      "Using input_dir: sample_data\n",
      "Using output_dir: ./results\n",
      "Using code_dir: ./\n",
      "Using cache_dir: ./cache\n",
      "************************************************\n",
      "******** Processing data chunk number 36 ********\n",
      "************************************************\n",
      "Data Manager :: Version = 1\n",
      "Data Manager :: Version = 1\n",
      "Version = Persitent\n",
      "Model :: ========= Adapting model =========\n",
      "[+] Success, model adapted in  0.00 sec\n",
      "Model :: ========= Making predictions =========\n",
      "[+] Success, predictions made in  0.00 sec\n",
      "Data Manager :: ========= Saving data to ./results/Y36.h5\n",
      "[+] Success in  0.00 sec\n",
      "[+] Done\n",
      "[+] Time spent  1.22 sec ::  Time budget 600.00 sec\n",
      "\n",
      "====> STEP: 37\n",
      "Using input_dir: sample_data\n",
      "Using output_dir: ./results\n",
      "Using code_dir: ./\n",
      "Using cache_dir: ./cache\n",
      "************************************************\n",
      "******** Processing data chunk number 37 ********\n",
      "************************************************\n",
      "Data Manager :: Version = 1\n",
      "Data Manager :: Version = 1\n",
      "Version = Persitent\n",
      "Model :: ========= Adapting model =========\n",
      "[+] Success, model adapted in  0.00 sec\n",
      "Model :: ========= Making predictions =========\n",
      "[+] Success, predictions made in  0.00 sec\n",
      "Data Manager :: ========= Saving data to ./results/Y37.h5\n",
      "[+] Success in  0.00 sec\n",
      "[+] Done\n",
      "[+] Time spent  1.20 sec ::  Time budget 600.00 sec\n",
      "\n",
      "====> STEP: 38\n",
      "Using input_dir: sample_data\n",
      "Using output_dir: ./results\n",
      "Using code_dir: ./\n",
      "Using cache_dir: ./cache\n",
      "************************************************\n",
      "******** Processing data chunk number 38 ********\n",
      "************************************************\n",
      "Data Manager :: Version = 1\n",
      "Data Manager :: Version = 1\n",
      "Version = Persitent\n",
      "Model :: ========= Adapting model =========\n",
      "[+] Success, model adapted in  0.00 sec\n",
      "Model :: ========= Making predictions =========\n",
      "[+] Success, predictions made in  0.00 sec\n",
      "Data Manager :: ========= Saving data to ./results/Y38.h5\n",
      "[+] Success in  0.00 sec\n",
      "[+] Done\n",
      "[+] Time spent  1.36 sec ::  Time budget 600.00 sec\n",
      "\n",
      "====> STEP: 39\n",
      "Using input_dir: sample_data\n",
      "Using output_dir: ./results\n",
      "Using code_dir: ./\n",
      "Using cache_dir: ./cache\n",
      "************************************************\n",
      "******** Processing data chunk number 39 ********\n",
      "************************************************\n",
      "Data Manager :: Version = 1\n",
      "Data Manager :: Version = 1\n",
      "Version = Persitent\n",
      "Model :: ========= Adapting model =========\n",
      "[+] Success, model adapted in  0.00 sec\n",
      "Model :: ========= Making predictions =========\n",
      "[+] Success, predictions made in  0.00 sec\n",
      "Data Manager :: ========= Saving data to ./results/Y39.h5\n",
      "[+] Success in  0.00 sec\n",
      "[+] Done\n",
      "[+] Time spent  1.16 sec ::  Time budget 600.00 sec\n",
      "\n",
      "====> STEP: 40\n",
      "Using input_dir: sample_data\n",
      "Using output_dir: ./results\n",
      "Using code_dir: ./\n",
      "Using cache_dir: ./cache\n",
      "************************************************\n",
      "******** Processing data chunk number 40 ********\n",
      "************************************************\n",
      "Data Manager :: Version = 1\n",
      "Data Manager :: Version = 1\n",
      "Version = Persitent\n",
      "Model :: ========= Adapting model =========\n",
      "[+] Success, model adapted in  0.00 sec\n",
      "Model :: ========= Making predictions =========\n",
      "[+] Success, predictions made in  0.00 sec\n",
      "Data Manager :: ========= Saving data to ./results/Y40.h5\n",
      "[+] Success in  0.00 sec\n",
      "[+] Done\n",
      "[+] Time spent  1.17 sec ::  Time budget 600.00 sec\n",
      "\n",
      "====> STEP: 41\n",
      "Using input_dir: sample_data\n",
      "Using output_dir: ./results\n",
      "Using code_dir: ./\n",
      "Using cache_dir: ./cache\n",
      "************************************************\n",
      "******** Processing data chunk number 41 ********\n",
      "************************************************\n",
      "Data Manager :: Version = 1\n",
      "Data Manager :: Version = 1\n",
      "Version = Persitent\n",
      "Model :: ========= Adapting model =========\n",
      "[+] Success, model adapted in  0.00 sec\n",
      "Model :: ========= Making predictions =========\n",
      "[+] Success, predictions made in  0.00 sec\n",
      "Data Manager :: ========= Saving data to ./results/Y41.h5\n",
      "[+] Success in  0.00 sec\n",
      "[+] Done\n",
      "[+] Time spent  1.24 sec ::  Time budget 600.00 sec\n",
      "\n",
      "====> STEP: 42\n",
      "Using input_dir: sample_data\n",
      "Using output_dir: ./results\n",
      "Using code_dir: ./\n",
      "Using cache_dir: ./cache\n",
      "************************************************\n",
      "******** Processing data chunk number 42 ********\n",
      "************************************************\n",
      "Data Manager :: Version = 1\n",
      "Data Manager :: Version = 1\n",
      "Version = Persitent\n",
      "Model :: ========= Adapting model =========\n",
      "[+] Success, model adapted in  0.00 sec\n",
      "Model :: ========= Making predictions =========\n",
      "[+] Success, predictions made in  0.00 sec\n",
      "Data Manager :: ========= Saving data to ./results/Y42.h5\n",
      "[+] Success in  0.00 sec\n",
      "[+] Done\n",
      "[+] Time spent  1.31 sec ::  Time budget 600.00 sec\n",
      "\n",
      "====> STEP: 43\n",
      "Using input_dir: sample_data\n",
      "Using output_dir: ./results\n",
      "Using code_dir: ./\n",
      "Using cache_dir: ./cache\n",
      "************************************************\n",
      "******** Processing data chunk number 43 ********\n",
      "************************************************\n",
      "Data Manager :: Version = 1\n",
      "Data Manager :: Version = 1\n",
      "Version = Persitent\n",
      "Model :: ========= Adapting model =========\n",
      "[+] Success, model adapted in  0.00 sec\n",
      "Model :: ========= Making predictions =========\n",
      "[+] Success, predictions made in  0.00 sec\n",
      "Data Manager :: ========= Saving data to ./results/Y43.h5\n",
      "[+] Success in  0.00 sec\n",
      "[+] Done\n",
      "[+] Time spent  1.20 sec ::  Time budget 600.00 sec\n",
      "\n",
      "====> STEP: 44\n",
      "Using input_dir: sample_data\n",
      "Using output_dir: ./results\n",
      "Using code_dir: ./\n",
      "Using cache_dir: ./cache\n",
      "************************************************\n",
      "******** Processing data chunk number 44 ********\n",
      "************************************************\n",
      "Data Manager :: Version = 1\n",
      "Data Manager :: Version = 1\n",
      "Version = Persitent\n",
      "Model :: ========= Adapting model =========\n",
      "[+] Success, model adapted in  0.00 sec\n",
      "Model :: ========= Making predictions =========\n",
      "[+] Success, predictions made in  0.00 sec\n",
      "Data Manager :: ========= Saving data to ./results/Y44.h5\n",
      "[+] Success in  0.00 sec\n",
      "[+] Done\n",
      "[+] Time spent  1.22 sec ::  Time budget 600.00 sec\n",
      "\n",
      "====> STEP: 45\n",
      "Using input_dir: sample_data\n",
      "Using output_dir: ./results\n",
      "Using code_dir: ./\n",
      "Using cache_dir: ./cache\n",
      "************************************************\n",
      "******** Processing data chunk number 45 ********\n",
      "************************************************\n",
      "Data Manager :: Version = 1\n",
      "Data Manager :: Version = 1\n",
      "Version = Persitent\n",
      "Model :: ========= Adapting model =========\n",
      "[+] Success, model adapted in  0.00 sec\n",
      "Model :: ========= Making predictions =========\n",
      "[+] Success, predictions made in  0.00 sec\n",
      "Data Manager :: ========= Saving data to ./results/Y45.h5\n",
      "[+] Success in  0.00 sec\n",
      "[+] Done\n",
      "[+] Time spent  1.22 sec ::  Time budget 600.00 sec\n",
      "\n",
      "====> STEP: 46\n",
      "Using input_dir: sample_data\n",
      "Using output_dir: ./results\n",
      "Using code_dir: ./\n",
      "Using cache_dir: ./cache\n",
      "************************************************\n",
      "******** Processing data chunk number 46 ********\n",
      "************************************************\n",
      "Data Manager :: Version = 1\n",
      "Data Manager :: Version = 1\n",
      "Version = Persitent\n",
      "Model :: ========= Adapting model =========\n",
      "[+] Success, model adapted in  0.00 sec\n",
      "Model :: ========= Making predictions =========\n",
      "[+] Success, predictions made in  0.00 sec\n",
      "Data Manager :: ========= Saving data to ./results/Y46.h5\n",
      "[+] Success in  0.00 sec\n",
      "[+] Done\n",
      "[+] Time spent  1.16 sec ::  Time budget 600.00 sec\n",
      "\n",
      "====> STEP: 47\n",
      "Using input_dir: sample_data\n",
      "Using output_dir: ./results\n",
      "Using code_dir: ./\n",
      "Using cache_dir: ./cache\n",
      "************************************************\n",
      "******** Processing data chunk number 47 ********\n",
      "************************************************\n",
      "Data Manager :: Version = 1\n",
      "Data Manager :: Version = 1\n",
      "Version = Persitent\n",
      "Model :: ========= Adapting model =========\n",
      "[+] Success, model adapted in  0.00 sec\n",
      "Model :: ========= Making predictions =========\n",
      "[+] Success, predictions made in  0.00 sec\n",
      "Data Manager :: ========= Saving data to ./results/Y47.h5\n",
      "[+] Success in  0.00 sec\n",
      "[+] Done\n",
      "[+] Time spent  1.21 sec ::  Time budget 600.00 sec\n",
      "\n",
      "====> STEP: 48\n",
      "Using input_dir: sample_data\n",
      "Using output_dir: ./results\n",
      "Using code_dir: ./\n",
      "Using cache_dir: ./cache\n",
      "************************************************\n",
      "******** Processing data chunk number 48 ********\n",
      "************************************************\n",
      "Data Manager :: Version = 1\n",
      "Data Manager :: Version = 1\n",
      "Version = Persitent\n",
      "Model :: ========= Adapting model =========\n",
      "[+] Success, model adapted in  0.00 sec\n",
      "Model :: ========= Making predictions =========\n",
      "[+] Success, predictions made in  0.00 sec\n",
      "Data Manager :: ========= Saving data to ./results/Y48.h5\n",
      "[+] Success in  0.00 sec\n",
      "[+] Done\n",
      "[+] Time spent  1.16 sec ::  Time budget 600.00 sec\n",
      "\n",
      "====> STEP: 49\n",
      "Using input_dir: sample_data\n",
      "Using output_dir: ./results\n",
      "Using code_dir: ./\n",
      "Using cache_dir: ./cache\n",
      "************************************************\n",
      "******** Processing data chunk number 49 ********\n",
      "************************************************\n",
      "Data Manager :: Version = 1\n",
      "Data Manager :: Version = 1\n",
      "Version = Persitent\n",
      "Model :: ========= Adapting model =========\n",
      "[+] Success, model adapted in  0.00 sec\n",
      "Model :: ========= Making predictions =========\n",
      "[+] Success, predictions made in  0.00 sec\n",
      "Data Manager :: ========= Saving data to ./results/Y49.h5\n",
      "[+] Success in  0.00 sec\n",
      "[+] Done\n",
      "[+] Time spent  1.22 sec ::  Time budget 600.00 sec\n",
      "\n",
      "====> STEP: 50\n",
      "Using input_dir: sample_data\n",
      "Using output_dir: ./results\n",
      "Using code_dir: ./\n",
      "Using cache_dir: ./cache\n",
      "************************************************\n",
      "******** Processing data chunk number 50 ********\n",
      "************************************************\n",
      "Data Manager :: Version = 1\n",
      "Data Manager :: Version = 1\n",
      "Version = Persitent\n"
     ]
    }
   ],
   "source": [
    "# !python $util_dir/score.py $data_dir $out_dir $root_dir #if this doesn't work, uncomment and try the second command \n",
    "!python 'utilities/score.py' 'sample_data' 'results' './' "
   ]
  },
  {
   "cell_type": "markdown",
   "metadata": {},
   "source": [
    "# STEP 5: Prepare your Submission\n",
    "\n",
    "## Unit testing\n",
    "It is <b><span style=\"color:red\">important that you test your submission files before submitting them</span></b>. All you have to do to make a submission is modify the file <code>model.py</code> in the <code>sample_code/</code> directory, then run this test to make sure everything works fine. The first argument is the \"step\" number, try at least two steps."
   ]
  },
  {
   "cell_type": "code",
   "execution_count": 20,
   "metadata": {
    "collapsed": true
   },
   "outputs": [],
   "source": [
    "out_dir = os.path.join(root_dir, 'results')"
   ]
  },
  {
   "cell_type": "code",
   "execution_count": 21,
   "metadata": {
    "collapsed": false
   },
   "outputs": [
    {
     "name": "stdout",
     "output_type": "stream",
     "text": [
      "\n",
      "====> STEP: 0\n",
      "Using input_dir: ./sample_data\n",
      "Using output_dir: /Users/lishengsun/Downloads/zSee4C_starting_kit_Lisheng/results\n",
      "Using code_dir: .\n",
      "Using cache_dir: .\n",
      "************************************************\n",
      "******** Processing data chunk number 0 ********\n",
      "************************************************\n",
      "Data Manager :: Version = 1\n",
      "Data Manager :: Version = 1\n",
      "Version = Persitent\n",
      "Model :: ========= Adapting model =========\n",
      "[+] Success, model adapted in  0.00 sec\n",
      "Model :: ========= Making predictions =========\n",
      "[+] Success, predictions made in  0.00 sec\n",
      "Data Manager :: ========= Saving data to /Users/lishengsun/Downloads/zSee4C_starting_kit_Lisheng/results/Y0.h5\n",
      "[+] Success in  0.00 sec\n",
      "[+] Done\n",
      "[+] Time spent  1.56 sec ::  Time budget 600.00 sec\n"
     ]
    }
   ],
   "source": [
    "max_steps = 1 # Change this to the number of steps you want to test\n",
    "for n in range(max_steps):\n",
    "    step_num = str(n)\n",
    "    !python predictSpatioTemporal.py $step_num $data_dir $out_dir $root_dir"
   ]
  },
  {
   "cell_type": "markdown",
   "metadata": {},
   "source": [
    "## Making your Submission\n",
    "\n",
    "Zip your code, including the <span style=\"color:red\">sample_code/</span> directory, and the two scripts <span style=\"color:red\">predictSpatioTemporal.py</span> and <span style=\"color:red\">predict.sh</span>."
   ]
  },
  {
   "cell_type": "code",
   "execution_count": 44,
   "metadata": {
    "collapsed": false
   },
   "outputs": [
    {
     "name": "stdout",
     "output_type": "stream",
     "text": [
      "Submit the file: ../sample_submission_17-06-09-18-08.zip\n"
     ]
    }
   ],
   "source": [
    "import datetime\n",
    "from data_io import zip_submission\n",
    "the_date = datetime.datetime.now().strftime(\"%y-%m-%d-%H-%M\")\n",
    "submission_filename = '../sample_submission_' + the_date + '.zip'\n",
    "zip_submission(submission_filename, root_dir)\n",
    "print(\"Submit the file: \" + submission_filename)"
   ]
  },
  {
   "cell_type": "code",
   "execution_count": null,
   "metadata": {
    "collapsed": true
   },
   "outputs": [],
   "source": []
  },
  {
   "cell_type": "code",
   "execution_count": null,
   "metadata": {
    "collapsed": true
   },
   "outputs": [],
   "source": []
  }
 ],
 "metadata": {
  "anaconda-cloud": {},
  "kernelspec": {
   "display_name": "Python 2",
   "language": "python",
   "name": "python2"
  },
  "language_info": {
   "codemirror_mode": {
    "name": "ipython",
    "version": 2
   },
   "file_extension": ".py",
   "mimetype": "text/x-python",
   "name": "python",
   "nbconvert_exporter": "python",
   "pygments_lexer": "ipython2",
   "version": "2.7.13"
  }
 },
 "nbformat": 4,
 "nbformat_minor": 2
}
