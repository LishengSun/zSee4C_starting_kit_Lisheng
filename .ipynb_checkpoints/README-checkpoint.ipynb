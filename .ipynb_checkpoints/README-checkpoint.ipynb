{
 "cells": [
  {
   "cell_type": "markdown",
   "metadata": {},
   "source": [
    "<img src=\"See4C.png\", width=150, ALIGN=\"left\", border=20>\n",
    "<center>\n",
    "<h1>See.4C RTE Challenge Starting Kit</h1>\n",
    "<br>This code was tested with <br>\n",
    "Python 2.7.13 | Anaconda 4.3.1 (https://anaconda.org/)<br>\n",
    "Keras 1.2.1 (https://keras.io/)<br>\n",
    "Tensorflow 0.11.0rc2 (follow Keras instructions)<br>\n",
    "</center>\n",
    "<p><br>\n",
    "ALL INFORMATION, SOFTWARE, DOCUMENTATION, AND DATA ARE PROVIDED \"AS-IS\". The SEE.4C CONSORTIUM, AND/OR OTHER ORGANIZERS OR CODE AUTHORS DISCLAIM ANY EXPRESSED OR IMPLIED WARRANTIES, INCLUDING, BUT NOT LIMITED TO, THE IMPLIED WARRANTIES OF MERCHANTABILITY AND FITNESS FOR ANY PARTICULAR PURPOSE, AND THE WARRANTY OF NON-INFRIGEMENT OF ANY THIRD PARTY'S INTELLECTUAL PROPERTY RIGHTS. IN NO EVENT SHALL AUTHORS AND ORGANIZERS BE LIABLE FOR ANY SPECIAL INDIRECT OR CONSEQUENTIAL DAMAGES OR ANY DAMAGES WHATSOEVER ARISING OUT OF OR IN CONNECTION WITH THE USE OR PERFORMANCE OF SOFTWARE, DOCUMENTS, MATERIALS, PUBLICATIONS, OR INFORMATION MADE AVAILABLE FOR THE CHALLENGE.\n"
   ]
  },
  {
   "cell_type": "markdown",
   "metadata": {},
   "source": [
    "# STEP 1: Get Ready!"
   ]
  },
  {
   "cell_type": "markdown",
   "metadata": {},
   "source": [
    "## Where to find Sample Code"
   ]
  },
  {
   "cell_type": "code",
   "execution_count": 5,
   "metadata": {
    "collapsed": false
   },
   "outputs": [
    {
     "name": "stdout",
     "output_type": "stream",
     "text": [
      "The autoreload extension is already loaded. To reload it, use:\n",
      "  %reload_ext autoreload\n",
      "done\n"
     ]
    }
   ],
   "source": [
    "%matplotlib inline\n",
    "%load_ext autoreload\n",
    "%autoreload 2\n",
    "import os, sys\n",
    "root_dir = '.' # We assume that you are running this example where you originally found it.\n",
    "util_dir = os.path.join(root_dir, 'utilities')\n",
    "code_dir = os.path.join(root_dir, 'sample_code')\n",
    "sys.path.append(util_dir)\n",
    "sys.path.append(code_dir)\n",
    "cache_dir = os.path.join(root_dir, 'cache')\n",
    "from data_io import mkdir\n",
    "mkdir(cache_dir) "
   ]
  },
  {
   "cell_type": "markdown",
   "metadata": {},
   "source": [
    "We provide a few classes and function in the sample_code directory."
   ]
  },
  {
   "cell_type": "code",
   "execution_count": 6,
   "metadata": {
    "collapsed": false
   },
   "outputs": [
    {
     "name": "stdout",
     "output_type": "stream",
     "text": [
      "['linear_kernels.py', 'prednet.py', 'prednet_baseline.py', 'prednet_utils.py', 'simple_model.py']\n",
      "[]\n"
     ]
    }
   ],
   "source": [
    "for (path, dirs, files) in os.walk(code_dir): print [file for file in files if file.endswith('.py')]"
   ]
  },
  {
   "cell_type": "markdown",
   "metadata": {},
   "source": [
    "## Where to find Sample Data\n",
    "Data are stored in this example like on the See.4C server (where your code submission are evaluated) in two subdirectories \"train\" and \"adapt\". "
   ]
  },
  {
   "cell_type": "code",
   "execution_count": 7,
   "metadata": {
    "collapsed": false
   },
   "outputs": [
    {
     "name": "stdout",
     "output_type": "stream",
     "text": [
      "./sample_data: 2 files\n",
      "./sample_data/adapt: 69 files\n",
      "./sample_data/train: 1 files\n",
      "./sample_data/train/Xm1: 290 files\n"
     ]
    }
   ],
   "source": [
    "data_dir = os.path.join(root_dir, 'sample_data')\n",
    "for (path, dirs, files) in os.walk(data_dir): print \"%s: %d files\" % (path, len(files))"
   ]
  },
  {
   "cell_type": "markdown",
   "metadata": {},
   "source": [
    "The \"train\" directory contains sub-directories named \"Xmn\", where \"n\" is a number that can range from 1 to 4 (in the sample_data n=1 or n=2).                                    \n",
    "`In the sample data we provide with the starting kit you get only:\n",
    "    Xm1 = sample data,\n",
    "In the feedback phase, you will get more:\n",
    "    Xm2 = \"public\" data,\n",
    "    Xm1 = \"feedback_train\" data. \n",
    "In the validation phase, you will get yet more:\n",
    "    Xm4 = \"public\" data,\n",
    "    Xm3 = \"feedback_train\" data,\n",
    "    Xm2 = \"feedback_adapt\" data,\n",
    "    Xm1 = \"validation_train\" data.`                    \n",
    "In each directory, video clips are stored in the hdf5 format as Xp.h5, where p is the clip number."
   ]
  },
  {
   "cell_type": "markdown",
   "metadata": {},
   "source": [
    "## The DataManager object\n",
    "The DataManager class allows you to painlessly load video clips into an object, as numpy arrays. As RTE data is secret, the spatial information is originally masked. To recover this information, we have implemented the Self Organising Mapping (SOM) in DataManager. This functionality is by default active (DataManager.two_d_map=True) and uses a pre-trained map './utilities/Midx_199_44by44.txt' to map the data to 2D array of shape (horizon, 44, 44). We also provide another pre-trained map './utilities/Midx_199_64by64.txt' which maps data to shape (horizon, 64, 64), this is useful when using PredNet. You can switch maps by changing the parameter DataManager.map_file (see commented examples below). To turn off the 2D mapping and load simply the original data, you can just set the parameter 'two_d_map=False' when initializing the DataManager object. "
   ]
  },
  {
   "cell_type": "markdown",
   "metadata": {},
   "source": [
    "### Load one statio-temporal sequence"
   ]
  },
  {
   "cell_type": "code",
   "execution_count": 9,
   "metadata": {
    "collapsed": false
   },
   "outputs": [
    {
     "name": "stdout",
     "output_type": "stream",
     "text": [
      "Data Manager :: Version = 1\n",
      "Data Manager :: ========= Loading data from sample_data/adapt/X0.h5\n",
      "[+] Success in  0.01 sec\n"
     ]
    }
   ],
   "source": [
    "from data_manager import DataManager \n",
    "cache_file = os.path.join(cache_dir, \"DM.pickle\") #  This will allow faster reload\n",
    "DM = DataManager(data_file = 'sample_data/adapt/X0.h5', verbose=True, cache_file=cache_file, two_d_map=True, map_file='./utilities/Midx_199_44by44.txt')\n",
    "# DM = DataManager(data_file = 'sample_data/adapt/X0.h5', verbose=True, cache_file=cache_file, two_d_map=True, map_file='./utilities/Midx_199_64by64.txt') \n",
    "# DM = DataManager(data_file = 'sample_data/adapt/X0.h5', verbose=True, cache_file=cache_file, two_d_map=False) \n",
    "# set two_d_map=False to load the original data"
   ]
  },
  {
   "cell_type": "markdown",
   "metadata": {},
   "source": [
    "You can also just construct a DM with `DM =  DataManager()`, then call `DM.loadData(data_file = 'xxx')`.\n",
    "\n",
    "DM contains 2 attributes: \n",
    "    - X: ndarray representing an array of feature vectors (frames); frames characterize the power grid state.\n",
    "    - t: ndarray representing the time index (a positive integer)\n",
    "This command just loaded a single sequence of 12 time steps. Original frames have 1916 dimensions, and they are here mapped via SOM to a 2D array of shape (44, 44)."
   ]
  },
  {
   "cell_type": "code",
   "execution_count": 10,
   "metadata": {
    "collapsed": false
   },
   "outputs": [
    {
     "name": "stdout",
     "output_type": "stream",
     "text": [
      "(12, 44, 44)\n",
      "(12, 1)\n"
     ]
    }
   ],
   "source": [
    "print DM.X.shape\n",
    "print DM.t.shape"
   ]
  },
  {
   "cell_type": "markdown",
   "metadata": {},
   "source": [
    "### Save and reload data"
   ]
  },
  {
   "cell_type": "markdown",
   "metadata": {},
   "source": [
    "\n",
    "\n",
    "You can save your DataManager object to a \"pickle\" or \"h5\" file format. The parameter \"frames\" allows you to specify the frames you want to save. For example, save the first 10 frames on pickle format:"
   ]
  },
  {
   "cell_type": "code",
   "execution_count": 11,
   "metadata": {
    "collapsed": false
   },
   "outputs": [
    {
     "name": "stdout",
     "output_type": "stream",
     "text": [
      "done\n",
      "Data Manager :: ========= Saving data to temp/first_10.pickle\n",
      "[+] Success in  0.00 sec\n"
     ]
    },
    {
     "data": {
      "text/plain": [
       "True"
      ]
     },
     "execution_count": 11,
     "metadata": {},
     "output_type": "execute_result"
    }
   ],
   "source": [
    "from data_io import mkdir\n",
    "mkdir('temp')\n",
    "DM.saveData(data_file='temp/first_10', format='pickle', frames=(0, 10)) \n"
   ]
  },
  {
   "cell_type": "markdown",
   "metadata": {},
   "source": [
    "You might want to reload your DataManager object that you have saved before:"
   ]
  },
  {
   "cell_type": "code",
   "execution_count": 12,
   "metadata": {
    "collapsed": false
   },
   "outputs": [
    {
     "name": "stdout",
     "output_type": "stream",
     "text": [
      "Data Manager :: ========= Reloading data from temp/first_10.pickle\n",
      "temp/first_10.pickle\n",
      "[+] Success in  0.00 sec\n",
      "(10, 44, 44)\n",
      "(10, 1)\n"
     ]
    }
   ],
   "source": [
    "DM.reloadData(filename=os.path.join('temp', 'first_10.pickle'))\n",
    "print DM.X.shape\n",
    "print DM.t.shape\n",
    "import shutil # Cleanup\n",
    "shutil.rmtree('temp', ignore_errors=True)"
   ]
  },
  {
   "cell_type": "markdown",
   "metadata": {},
   "source": [
    "Loading a single file is mainly useful if you want perform predictions using a single time series, but you can do more!\n",
    "\n",
    "### Load the whole training dataset\n",
    "For training, you can load the entire training set. Note that this command erases previously loaded data. It may be reloading from a pickle stores in the cache directory (if it exists)."
   ]
  },
  {
   "cell_type": "code",
   "execution_count": 13,
   "metadata": {
    "collapsed": false
   },
   "outputs": [
    {
     "name": "stdout",
     "output_type": "stream",
     "text": [
      "Data Manager :: ========= Reading training data from ./sample_data/train\n",
      "Data Manager :: ========= Reloading data from ./cache/DM.pickle\n",
      "[Errno 2] No such file or directory: './cache/DM.pickle'\n",
      "['Xm1']\n",
      "Loading X1.h5\n",
      "Loading X2.h5\n",
      "Loading X3.h5\n",
      "Loading X4.h5\n",
      "Loading X5.h5\n",
      "Loading X6.h5\n",
      "Loading X7.h5\n",
      "Loading X8.h5\n",
      "Loading X9.h5\n",
      "Loading X10.h5\n",
      "Loading X11.h5\n",
      "Loading X12.h5\n",
      "Loading X13.h5\n",
      "Loading X14.h5\n",
      "Loading X15.h5\n",
      "Loading X16.h5\n",
      "Loading X17.h5\n",
      "Loading X18.h5\n",
      "Loading X19.h5\n",
      "Loading X20.h5\n",
      "Loading X21.h5\n",
      "Loading X22.h5\n",
      "Loading X23.h5\n",
      "Loading X24.h5\n",
      "Loading X25.h5\n",
      "Loading X26.h5\n",
      "Loading X27.h5\n",
      "Loading X28.h5\n",
      "Loading X29.h5\n",
      "Loading X30.h5\n",
      "Loading X31.h5\n",
      "Loading X32.h5\n",
      "Loading X33.h5\n",
      "Loading X34.h5\n",
      "Loading X35.h5\n",
      "Loading X36.h5\n",
      "Loading X37.h5\n",
      "Loading X38.h5\n",
      "Loading X39.h5\n",
      "Loading X40.h5\n",
      "Loading X41.h5\n",
      "Loading X42.h5\n",
      "Loading X43.h5\n",
      "Loading X44.h5\n",
      "Loading X45.h5\n",
      "Loading X46.h5\n",
      "Loading X47.h5\n",
      "Loading X48.h5\n",
      "Loading X49.h5\n",
      "Loading X50.h5\n",
      "Loading X51.h5\n",
      "Loading X52.h5\n",
      "Loading X53.h5\n",
      "Loading X54.h5\n",
      "Loading X55.h5\n",
      "Loading X56.h5\n",
      "Loading X57.h5\n",
      "Loading X58.h5\n",
      "Loading X59.h5\n",
      "Loading X60.h5\n",
      "Loading X61.h5\n",
      "Loading X62.h5\n",
      "Loading X63.h5\n",
      "Loading X64.h5\n",
      "Loading X65.h5\n",
      "Loading X66.h5\n",
      "Loading X67.h5\n",
      "Loading X68.h5\n",
      "Loading X69.h5\n",
      "Loading X70.h5\n",
      "Loading X71.h5\n",
      "Loading X72.h5\n",
      "Loading X73.h5\n",
      "Loading X74.h5\n",
      "Loading X75.h5\n",
      "Loading X76.h5\n",
      "Loading X77.h5\n",
      "Loading X78.h5\n",
      "Loading X79.h5\n",
      "Loading X80.h5\n",
      "Loading X81.h5\n",
      "Loading X82.h5\n",
      "Loading X83.h5\n",
      "Loading X84.h5\n",
      "Loading X85.h5\n",
      "Loading X86.h5\n",
      "Loading X87.h5\n",
      "Loading X88.h5\n",
      "Loading X89.h5\n",
      "Loading X90.h5\n",
      "Loading X91.h5\n",
      "Loading X92.h5\n",
      "Loading X93.h5\n",
      "Loading X94.h5\n",
      "Loading X95.h5\n",
      "Loading X96.h5\n",
      "Loading X97.h5\n",
      "Loading X98.h5\n",
      "Loading X99.h5\n",
      "Loading X100.h5\n",
      "Loading X101.h5\n",
      "Loading X102.h5\n",
      "Loading X103.h5\n",
      "Loading X104.h5\n",
      "Loading X105.h5\n",
      "Loading X106.h5\n",
      "Loading X107.h5\n",
      "Loading X108.h5\n",
      "Loading X109.h5\n",
      "Loading X110.h5\n",
      "Loading X111.h5\n",
      "Loading X112.h5\n",
      "Loading X113.h5\n",
      "Loading X114.h5\n",
      "Loading X115.h5\n",
      "Loading X116.h5\n",
      "Loading X117.h5\n",
      "Loading X118.h5\n",
      "Loading X119.h5\n",
      "Loading X120.h5\n",
      "Loading X121.h5\n",
      "Loading X122.h5\n",
      "Loading X123.h5\n",
      "Loading X124.h5\n",
      "Loading X125.h5\n",
      "Loading X126.h5\n",
      "Loading X127.h5\n",
      "Loading X128.h5\n",
      "Loading X129.h5\n",
      "Loading X130.h5\n",
      "Loading X131.h5\n",
      "Loading X132.h5\n",
      "Loading X133.h5\n",
      "Loading X134.h5\n",
      "Loading X135.h5\n",
      "Loading X136.h5\n",
      "Loading X137.h5\n",
      "Loading X138.h5\n",
      "Loading X139.h5\n",
      "Loading X140.h5\n",
      "Loading X141.h5\n",
      "Loading X142.h5\n",
      "Loading X143.h5\n",
      "Loading X144.h5\n",
      "Loading X145.h5\n",
      "Loading X146.h5\n",
      "Loading X147.h5\n",
      "Loading X148.h5\n",
      "Loading X149.h5\n",
      "Loading X150.h5\n",
      "Loading X151.h5\n",
      "Loading X152.h5\n",
      "Loading X153.h5\n",
      "Loading X154.h5\n",
      "Loading X155.h5\n",
      "Loading X156.h5\n",
      "Loading X157.h5\n",
      "Loading X158.h5\n",
      "Loading X159.h5\n",
      "Loading X160.h5\n",
      "Loading X161.h5\n",
      "Loading X162.h5\n",
      "Loading X163.h5\n",
      "Loading X164.h5\n",
      "Loading X165.h5\n",
      "Loading X166.h5\n",
      "Loading X167.h5\n",
      "Loading X168.h5\n",
      "Loading X169.h5\n",
      "Loading X170.h5\n",
      "Loading X171.h5\n",
      "Loading X172.h5\n",
      "Loading X173.h5\n",
      "Loading X174.h5\n",
      "Loading X175.h5\n",
      "Loading X176.h5\n",
      "Loading X177.h5\n",
      "Loading X178.h5\n",
      "Loading X179.h5\n",
      "Loading X180.h5\n",
      "Loading X181.h5\n",
      "Loading X182.h5\n",
      "Loading X183.h5\n",
      "Loading X184.h5\n",
      "Loading X185.h5\n",
      "Loading X186.h5\n",
      "Loading X187.h5\n",
      "Loading X188.h5\n",
      "Loading X189.h5\n",
      "Loading X190.h5\n",
      "Loading X191.h5\n",
      "Loading X192.h5\n",
      "Loading X193.h5\n",
      "Loading X194.h5\n",
      "Loading X195.h5\n",
      "Loading X196.h5\n",
      "Loading X197.h5\n",
      "Loading X198.h5\n",
      "Loading X199.h5\n",
      "Loading X200.h5\n",
      "Loading X201.h5\n",
      "Loading X202.h5\n",
      "Loading X203.h5\n",
      "Loading X204.h5\n",
      "Loading X205.h5\n",
      "Loading X206.h5\n",
      "Loading X207.h5\n",
      "Loading X208.h5\n",
      "Loading X209.h5\n",
      "Loading X210.h5\n",
      "Loading X211.h5\n",
      "Loading X212.h5\n",
      "Loading X213.h5\n",
      "Loading X214.h5\n",
      "Loading X215.h5\n",
      "Loading X216.h5\n",
      "Loading X217.h5\n",
      "Loading X218.h5\n",
      "Loading X219.h5\n",
      "Loading X220.h5\n",
      "Loading X221.h5\n",
      "Loading X222.h5\n",
      "Loading X223.h5\n",
      "Loading X224.h5\n",
      "Loading X225.h5\n",
      "Loading X226.h5\n",
      "Loading X227.h5\n",
      "Loading X228.h5\n",
      "Loading X229.h5\n",
      "Loading X230.h5\n",
      "Loading X231.h5\n",
      "Loading X232.h5\n",
      "Loading X233.h5\n",
      "Loading X234.h5\n",
      "Loading X235.h5\n",
      "Loading X236.h5\n",
      "Loading X237.h5\n",
      "Loading X238.h5\n",
      "Loading X239.h5\n",
      "Loading X240.h5\n",
      "Loading X241.h5\n",
      "Loading X242.h5\n",
      "Loading X243.h5\n",
      "Loading X244.h5\n",
      "Loading X245.h5\n",
      "Loading X246.h5\n",
      "Loading X247.h5\n",
      "Loading X248.h5\n",
      "Loading X249.h5\n",
      "Loading X250.h5\n",
      "Loading X251.h5\n",
      "Loading X252.h5\n",
      "Loading X253.h5\n",
      "Loading X254.h5\n",
      "Loading X255.h5\n",
      "Loading X256.h5\n",
      "Loading X257.h5\n",
      "Loading X258.h5\n",
      "Loading X259.h5\n",
      "Loading X260.h5\n",
      "Loading X261.h5\n",
      "Loading X262.h5\n",
      "Loading X263.h5\n",
      "Loading X264.h5\n",
      "Loading X265.h5\n",
      "Loading X266.h5\n",
      "Loading X267.h5\n",
      "Loading X268.h5\n",
      "Loading X269.h5\n",
      "Loading X270.h5\n",
      "Loading X271.h5\n",
      "Loading X272.h5\n",
      "Loading X273.h5\n",
      "Loading X274.h5\n",
      "Loading X275.h5\n",
      "Loading X276.h5\n",
      "Loading X277.h5\n",
      "Loading X278.h5\n",
      "Loading X279.h5\n",
      "Loading X280.h5\n",
      "Loading X281.h5\n",
      "Loading X282.h5\n",
      "Loading X283.h5\n",
      "Loading X284.h5\n",
      "Loading X285.h5\n",
      "Loading X286.h5\n",
      "Loading X287.h5\n",
      "Loading X288.h5\n",
      "Loading X289.h5\n",
      "Data Manager :: ========= Saving data to ./cache/DM.pickle\n",
      "[+] Success in  5.47 sec\n",
      "[+] Success, loaded 289 videos in 189.60 sec\n",
      "(105049, 44, 44)\n",
      "(105049, 1)\n"
     ]
    }
   ],
   "source": [
    "train_data_dir = os.path.join(data_dir, 'train')\n",
    "DM.loadTrainData(train_data_dir)\n",
    "print DM.X.shape\n",
    "print DM.t.shape"
   ]
  },
  {
   "cell_type": "markdown",
   "metadata": {},
   "source": [
    "### Append more data\n",
    "After loading the training data X, you can append to X some additional data from the \"adapt\" directory. Your preditions program will be expected to make prediction on data from the \"adapt\" directory, which will become available progressively."
   ]
  },
  {
   "cell_type": "code",
   "execution_count": 14,
   "metadata": {
    "collapsed": false
   },
   "outputs": [
    {
     "name": "stdout",
     "output_type": "stream",
     "text": [
      "(105061, 44, 44)\n",
      "(105061, 1)\n"
     ]
    }
   ],
   "source": [
    "adapt_data_dir = os.path.join(data_dir, 'adapt')\n",
    "DM.appendSamples(data_file=\"X0\", data_dir=adapt_data_dir) # append adapt/X0.h5 to X\n",
    "print DM.X.shape\n",
    "print DM.t.shape"
   ]
  },
  {
   "cell_type": "markdown",
   "metadata": {},
   "source": [
    "# STEP 2: Explore the data\n",
    "\n",
    "DataManager object also provides methods to help you visualize the data. For example:\n"
   ]
  },
  {
   "cell_type": "code",
   "execution_count": 15,
   "metadata": {
    "collapsed": false
   },
   "outputs": [
    {
     "data": {
      "image/png": "[encoded data removed]",
      "text/plain": [
       "<matplotlib.figure.Figure at 0x10e069350>"
      ]
     },
     "metadata": {},
     "output_type": "display_data"
    }
   ],
   "source": [
    "DM.display(start=0, end=1000, step=100) # display every five frames"
   ]
  },
  {
   "cell_type": "markdown",
   "metadata": {},
   "source": [
    "The original data contains the time of the sample in unix time (seconds since 1970), which is a convention that allows absolute time (dates with arbitrary accuracy) to be represented as numbers. We have reindexed this absolute time as a sequence of integers starting from 0, which corresponds to 1,246,492,800 seconds since 1970. The interval between 2 time indices is 300 seconds, e.g, a file containing 12 frames has time indices [0, 1, 2, ..., 11], corresponding to a duration of $11*300=3300$ seconds. The files and contiguous sequences have a variable number of frames. The goal is to predict 11 frames in the future.\n",
    "The DataManager allows you to append files from the adapt directory:"
   ]
  },
  {
   "cell_type": "code",
   "execution_count": 16,
   "metadata": {
    "collapsed": false
   },
   "outputs": [
    {
     "name": "stdout",
     "output_type": "stream",
     "text": [
      "Data Manager :: ========= Reading training data from ./sample_data/train\n",
      "Data Manager :: ========= Reloading data from ./cache/DM.pickle\n",
      "./cache/DM.pickle\n",
      "[+] Success in 14.06 sec\n",
      "[+] Success, loaded 0 videos in 14.06 sec\n",
      "Appending 69 files from ./sample_data/adapt\n"
     ]
    },
    {
     "data": {
      "text/plain": [
       "<matplotlib.text.Text at 0x119e8c650>"
      ]
     },
     "execution_count": 16,
     "metadata": {},
     "output_type": "execute_result"
    },
    {
     "data": {
      "image/png": "[encoded data removed]",
      "text/plain": [
       "<matplotlib.figure.Figure at 0x119e54310>"
      ]
     },
     "metadata": {},
     "output_type": "display_data"
    }
   ],
   "source": [
    "DM.loadTrainData(train_data_dir)\n",
    "from glob import glob as ls\n",
    "fn = len(ls(adapt_data_dir + '/*.h5'))\n",
    "print 'Appending %d files from %s' % (fn, adapt_data_dir)\n",
    "for i in range(fn):\n",
    "    DM.appendSamples(i, data_dir=adapt_data_dir) \n",
    "import matplotlib.pyplot as plt\n",
    "fnum = len(DM.t)\n",
    "plt.plot(DM.t[1:fnum])\n",
    "plt.xlabel('Frame number')\n",
    "plt.ylabel('Time index')\n",
    "plt.title(\"Found %d contiguous sequences in the first %d frames\" % (list(DM.t[1:fnum]).count(0), fnum))\n"
   ]
  },
  {
   "cell_type": "markdown",
   "metadata": {},
   "source": [
    "# STEP 3: Train, Adapt, and Predict"
   ]
  },
  {
   "cell_type": "markdown",
   "metadata": {},
   "source": [
    "Now you are ready to write your code. Use *simple_model.py* as a template. It has three main functions, \"train\", \"adapt\", and \"predict\"."
   ]
  },
  {
   "cell_type": "code",
   "execution_count": 17,
   "metadata": {
    "collapsed": false
   },
   "outputs": [],
   "source": [
    "# from simple_model import Model #persistence\n",
    "from linear_kernels import Model\n",
    "# Model??\n",
    "# Uncomment the previous line if you want to see the code of the model"
   ]
  },
  {
   "cell_type": "markdown",
   "metadata": {},
   "source": [
    "## Train\n",
    "Load the entire training set and train:"
   ]
  },
  {
   "cell_type": "code",
   "execution_count": 18,
   "metadata": {
    "collapsed": false
   },
   "outputs": [
    {
     "name": "stdout",
     "output_type": "stream",
     "text": [
      "Data Manager :: ========= Reading training data from ./sample_data/train\n",
      "Data Manager :: ========= Reloading data from ./cache/DM.pickle\n",
      "./cache/DM.pickle\n",
      "[+] Success in 12.76 sec\n",
      "[+] Success, loaded 0 videos in 12.76 sec\n",
      "Model :: ========= Training model =========\n",
      "[+] Success in  0.00 sec\n"
     ]
    }
   ],
   "source": [
    "M = Model(verbose=True) # No hyper-parameter here, this model just implements persistence :-)\n",
    "DM.loadTrainData(train_data_dir)\n",
    "M.train(DM.X, DM.t)"
   ]
  },
  {
   "cell_type": "markdown",
   "metadata": {},
   "source": [
    "## Adapt\n",
    "Add a few more frames and adapt:"
   ]
  },
  {
   "cell_type": "code",
   "execution_count": 19,
   "metadata": {
    "collapsed": false
   },
   "outputs": [
    {
     "name": "stdout",
     "output_type": "stream",
     "text": [
      "Model :: ========= Adapting model =========\n",
      "[+] Success in  0.00 sec\n"
     ]
    }
   ],
   "source": [
    "DM.appendSamples(data_file=\"X0\", data_dir=adapt_data_dir)\n",
    "M.adapt(DM.X, DM.t) "
   ]
  },
  {
   "cell_type": "markdown",
   "metadata": {},
   "source": [
    "## Predict\n",
    "Predict the next frame_num frames:"
   ]
  },
  {
   "cell_type": "code",
   "execution_count": 20,
   "metadata": {
    "collapsed": false
   },
   "outputs": [
    {
     "name": "stdout",
     "output_type": "stream",
     "text": [
      "Model :: ========= Making predictions =========\n",
      "OK\n"
     ]
    },
    {
     "name": "stderr",
     "output_type": "stream",
     "text": [
      "./sample_code/linear_kernels.py:145: RuntimeWarning: invalid value encountered in double_scalars\n",
      "  i, j, k, l)) / (np.linalg.norm([v for v in self.img_history[1:, i, j]]) * np.linalg.norm(self.get_vect(i, j, k, l)))\n"
     ]
    },
    {
     "name": "stdout",
     "output_type": "stream",
     "text": [
      "[+] Success in  1.66 sec\n"
     ]
    }
   ],
   "source": [
    "RESULT = DataManager()\n",
    "# RESULT = DataManager(map_file='./utilities/Midx_199_64by64.txt') #if you use the 64by64 map\n",
    "frame_num=11\n",
    "RESULT.X = M.predict(DM.X, num_predicted_frames=frame_num)"
   ]
  },
  {
   "cell_type": "code",
   "execution_count": 21,
   "metadata": {
    "collapsed": false
   },
   "outputs": [
    {
     "data": {
      "text/plain": [
       "(11, 44, 44)"
      ]
     },
     "execution_count": 21,
     "metadata": {},
     "output_type": "execute_result"
    }
   ],
   "source": [
    "RESULT.X.shape"
   ]
  },
  {
   "cell_type": "code",
   "execution_count": 22,
   "metadata": {
    "collapsed": false
   },
   "outputs": [
    {
     "data": {
      "image/png": "[encoded data removed]",
      "text/plain": [
       "<matplotlib.figure.Figure at 0x115dba3d0>"
      ]
     },
     "metadata": {},
     "output_type": "display_data"
    }
   ],
   "source": [
    "RESULT.display(start=0, end=frame_num-1, step=1) "
   ]
  },
  {
   "cell_type": "markdown",
   "metadata": {},
   "source": [
    "# STEP 4: Compute your Accuracy\n",
    "Prediction accuracy is computed using the RMSE. You can load the next chunk and see whether your predictions are accurate. On the server, when your code is tested, the next chunk is released only when you have made your predictions for the next 8 frames based on previously released data."
   ]
  },
  {
   "cell_type": "code",
   "execution_count": 23,
   "metadata": {
    "collapsed": false
   },
   "outputs": [
    {
     "name": "stdout",
     "output_type": "stream",
     "text": [
      "RMSE = 19.94\n"
     ]
    }
   ],
   "source": [
    "import numpy as np\n",
    "from libscores import mse\n",
    "DM.appendSamples(data_file=\"X1\", data_dir=adapt_data_dir) # Get the next chunk\n",
    "# solution = DM.X[-frame_num:].ravel() #if you use the original non-mapped data\n",
    "# prediction = RESULT.X.ravel()\n",
    "solution = DM.map_back_to_1d(X_2d=DM.X[-frame_num:]).ravel()\n",
    "prediction = RESULT.map_back_to_1d(X_2d = RESULT.X).ravel()\n",
    "# print solution.shape\n",
    "# print prediction.shape\n",
    "print (\"RMSE = %5.2f\" % np.sqrt(mse(solution, prediction)))"
   ]
  },
  {
   "cell_type": "markdown",
   "metadata": {},
   "source": [
    "## Understand the data organization\n",
    "The expected sequence of query and answer videos will be:\n",
    "<pre>\n",
    "input name : number of frames    output name : number of frames\n",
    "\n",
    "X0.h5 : 101 frames               Y0.h5   :   8 frames\n",
    "X1.h5 : 8 frames                 Y1.h5   :   8 frames\n",
    "X2.h5 : 8 frames                 Y2.h5   :   8 frames\n",
    "X3.h5 : 109 frames               Y3.h5   :   8 frames\n",
    "X4.h5 : 8 frames                 Y4.h5   :   8 frames\n",
    "X5.h5 : 8 frames                 Y5.h5   :   8 frames\n",
    "X6.h5 : 109 frames               Y6.h5   :   8 frames     \n",
    "...\n",
    "X599.h5 \n",
    "</pre>"
   ]
  },
  {
   "cell_type": "markdown",
   "metadata": {},
   "source": [
    "## Testing on the entire \"adapt\" series\n",
    "This program tests your data and computes the RMSE on sample data.\n",
    "Point data_dir to the public data if you want a larger sample. It calls predictSpatioTemporal.py, so this is a full test. Scroll down to get your RMSE on sample data. WARNING: This can take long, you may want to comment this out."
   ]
  },
  {
   "cell_type": "code",
   "execution_count": 24,
   "metadata": {
    "collapsed": false,
    "scrolled": false
   },
   "outputs": [
    {
     "name": "stdout",
     "output_type": "stream",
     "text": [
      "*****************************Cannot find prediction files in ./results*****************************\r\n",
      "*****************************Now computing predictions using predictSpatioTemporal (persistance model)*****************************\r\n",
      "\r\n",
      "====> STEP: 0\r\n",
      "Using input_dir: sample_data\r\n",
      "Using output_dir: ./results\r\n",
      "Using code_dir: ./\r\n",
      "Using cache_dir: ./cache\r\n",
      "************************************************\r\n",
      "******** Processing data chunk number 0 ********\r\n",
      "************************************************\r\n",
      "Data Manager :: Version = 1\r\n",
      "Data Manager :: Version = 1\r\n",
      "Traceback (most recent call last):\r\n",
      "  File \"/Users/lishengsun/Downloads/zSee4C_starting_kit_Lisheng/utilities/data_manager.py\", line 423, in two_d_mapping\r\n",
      "    Midx = np.loadtxt(self.map_file)\r\n",
      "  File \"/Users/lishengsun/anaconda/lib/python2.7/site-packages/numpy/lib/npyio.py\", line 803, in loadtxt\r\n",
      "    fh = iter(open(fname, 'U'))\r\n",
      "IOError: [Errno 2] No such file or directory: './utilities/Midx_199_44by44.txt'\r\n",
      "\r\n",
      "Error \r\n",
      " Data has not been transformed to 2D array.\r\n",
      "Model :: ========= Adapting model =========\r\n",
      "[+] Success in  0.00 sec\r\n",
      "Model :: ========= Making predictions =========\r\n",
      "Traceback (most recent call last):\r\n",
      "  File \"utilities/score.py\", line 122, in <module>\r\n",
      "    predict(step_num, data_dir, result_dir, code_dir, cache_dir=cache_dir, num_predicted_frames=frame_num)\r\n",
      "  File \"./predictSpatioTemporal.py\", line 196, in predictSpatioTemporal\r\n",
      "    Dout.X = M.predict(Din.X, num_predicted_frames=num_predicted_frames)\r\n",
      "  File \"./sample_code/linear_kernels.py\", line 135, in predict\r\n",
      "    self.img_history = self.scale(self.img_history)\r\n",
      "  File \"./sample_code/linear_kernels.py\", line 40, in scale\r\n",
      "    data[:, i, j].reshape((-1, 1))).reshape((-1))\r\n",
      "IndexError: index 1 is out of bounds for axis 2 with size 1\r\n"
     ]
    }
   ],
   "source": [
    "# !python $util_dir/score.py $data_dir $out_dir $root_dir #if this doesn't work, uncomment and try the second command \n",
    "!python 'utilities/score.py' 'sample_data' 'results' './' "
   ]
  },
  {
   "cell_type": "markdown",
   "metadata": {},
   "source": [
    "# STEP 5: Prepare your Submission\n",
    "\n",
    "## Unit testing\n",
    "It is <b><span style=\"color:red\">important that you test your submission files before submitting them</span></b>. All you have to do to make a submission is modify the file <code>model.py</code> in the <code>sample_code/</code> directory, then run this test to make sure everything works fine. The first argument is the \"step\" number, try at least two steps."
   ]
  },
  {
   "cell_type": "code",
   "execution_count": 86,
   "metadata": {
    "collapsed": true
   },
   "outputs": [],
   "source": [
    "out_dir = os.path.join(root_dir, 'results')"
   ]
  },
  {
   "cell_type": "code",
   "execution_count": 87,
   "metadata": {
    "collapsed": false
   },
   "outputs": [
    {
     "name": "stdout",
     "output_type": "stream",
     "text": [
      "\n",
      "====> STEP: 0\n",
      "Using input_dir: ./sample_data\n",
      "Using output_dir: /Users/lishengsun/Downloads/zSee4C_starting_kit_Lisheng/results\n",
      "Using code_dir: .\n",
      "Using cache_dir: .\n",
      "{'max_samples': inf, 'verbose': False, 'datatype': 'unknown', 'two_d_map': True, 'use_pickle': False, 'cache_file': '', 'version': '1', 't': array([], dtype=float64), 'X': array([], dtype=float64), 'map_file': './utilities/Midx_199_44by44.txt'}\n",
      "(['class DataManager:\\n', '    \\n', \"    ''' This class aims at loading, saving, and displaying data.\\n\", '    \\n', '    Data members:\\n', '    datatype = one of \"public\", \"feedback\", or \"validate\"\\n', '    X = data matrix, samples in lines (time index increasing with line), features in columns.\\n', '    t = time index. The time index may show ruptures e.g. 0, 1, 2, 3, 0, 1, 2, 3; indicating cuts.\\n', '     \\n', '    Methods defined:\\n', '    __init__ (...)\\n', '        x.__init__([(feature, value)]) -> void\\t\\t\\n', '        Initialize the data members with the tuples (feature, value) given as argument. An unlimited number of tuples can be passed as argument.\\n', '        If input_dir is given, calls loadTrainData.\\n', '        Parameters:\\n', '        two_d_map: bool. Maps 1d array data to 2d using a pre-trained SOM (Self Organizing Map) map when True (default).\\n', \"        map_file: the SOM map used when two_d_map. default ='./utilities/Midx_199_44by44.txt'\\n\", '        \\n', '    loadTrainData (...)\\n', '        x.loadData (input_dir, max_samples=float(\\'inf\\'), verbose=\"True\") -> success\\t\\t\\n', '        Load all the training samples found in directory input_dir/train. \\n', '        Ignores the samples in input_dir/adapt, if any.\\n', '        input_dir/train may contain multiple subdirectories, Xmn/.\\n', '        The data must be read from all of them, it order of DECREASING values of n.\\n', '        The directories contains files Xn.h5, which must be read in order if INCREASING n values.\\n', '        If data are already loaded, this function overwrites X, unless append=\"True\".\\n', '        For speed reasons, stops after max_samples samples (frames) have been read.\\n', '        Returns success=\"True/False\".\\n', '        =============================\\n', '        loadTrainData() returns a ndarray X and a time index array t\\n', '            X.shape(total_num_of_frames=101*125frames/videos, 32,32)\\n', '            t = array([0, ...., 124, 0, ...., 124,...]), t.shape=(total_num_of_frames,)\\n', '\\t\\t\\n', '    appendSamples (...)\\n', '        x.appendSamples (chunk_num, input_dir, verbose=\"True\") -> success\\t\\t\\n', '        Append to X all the samples found in directory input_dir/adapt/Xn.h5, where n=chunk_num.\\n', '        Returns success=\"True/False\".        \\n', '        \\n', '    getInfo (...)\\n', '        x.getInfo () -> string\\t\\n', '        Pretty prints information about the object.\\n', '\\n', '    saveData() \\n', '        save read data (array X, T) to pickle or h5 file\\t\\t\\n', \"    '''\\n\", '\\t\\n', '    def __init__(self, datatype=\"unknown\", data_file=\"\", verbose=False, max_samples=float(\\'inf\\'), cache_file=\"\", two_d_map=True, map_file=\\'./utilities/Midx_199_44by44.txt\\'):\\n', \"        '''Constructor'''\\n\", '        self.version = \"1\"\\n', '        self.datatype = datatype \\n', '        self.verbose = verbose\\n', '        self.max_samples=max_samples\\n', '        self.two_d_map = two_d_map\\n', '        self.map_file = map_file\\n', '        self.cache_file=cache_file # To save/reload data in binary format (only if not empty)\\n', '        if not cache_file: \\n', '            self.use_pickle = False\\n', '        else:\\n', '            self.use_pickle = True\\n', '        self.X = np.array([])\\n', '        self.t = np.array([])\\n', '        vprint(self.verbose, \"Data Manager :: Version = \" + self.version)\\n', '        if data_file:\\n', '            self.loadData(data_file)\\n', '\\n', '           \\n', '    def __repr__(self):\\n', '        return \"DataManager :\\\\n\\\\t\" + str(self.X.__repr__) + \"\\\\n\\\\t\" + str(self.t.__repr__)\\n', '\\n', '    def __str__(self):\\n', '        val = \"DataManager :\\\\n\" + self.getInfo\\n', '        return val\\n', '  \\n', '    def getInfo(self):\\n', \"        '''A nice string with information about the data.'''       \\n\", '        val = \"\"\\n', '        return val\\n', '        \\n', '    def loadTrainData(self, data_dir=\"\", max_samples=float(\\'inf\\')):\\n', \"        ''' Get the data from hdf5 files.'''\\n\", '        success = True\\n', '        data_reloaded = False\\n', '        vprint(self.verbose, \"Data Manager :: ========= Reading training data from \" + data_dir)\\n', '        start = time.time()\\n', '        vid=0\\n', '        if self.use_pickle and self.reloadData(self.cache_file):\\n', '            # Try to reload the file from a pickle\\n', '            data_reloaded = True # Turn \"success\" to false if there is a problem.\\n', '        else:\\n', '            # Load the data into X and t.\\n', '            dir_list = []\\n', '            for dir in os.listdir(data_dir):\\n', '                if os.path.isdir(os.path.join(data_dir, dir)):\\n', '                    dir_list.append(dir)\\n', '            # sort dir in decreasing order of n for n in Xmn        \\n', \"            dir_list = sorted(dir_list, key=lambda i: i.split('m')[-1], reverse=True)\\n\", '            vprint(self.verbose, dir_list)\\n', '            self.X=np.array([]) # Re-initialize from scratch\\n', '            self.t=np.array([])\\n', '            for dir in dir_list:\\n', \"                for data_file in sorted([h5file for h5file in os.listdir(os.path.join(data_dir, dir)) if h5file.endswith('h5')],key=lambda i:int(i.split('.')[0].split('X')[-1])):\\n\", '                    vprint(self.verbose, \"Loading %s\"%data_file)\\n', '                    self.appendSamples(data_file, os.path.join(data_dir, dir), verbose=False)\\n', '                    vid=vid+1\\n', '                   \\n', '        if self.use_pickle and not data_reloaded:\\n', '            # Save data as a pickle for \"faster\" later reload\\n', \"            self.saveData(self.cache_file, format='pickle')\\n\", '            \\n', '        end = time.time()\\n', '        if len(self.X)==0:\\n', '            success = False \\n', '            vprint(self.verbose, \"[-] Loading failed\")\\n', '        else:\\n', '            vprint(self.verbose, \"[+] Success, loaded %d videos in %5.2f sec\" % (vid, end - start))\\n', '        return success\\n', '\\t\\n', '\\n', '    def appendSamples(self, data_file, data_dir=\"\", verbose=False):\\n', \"        ''' After loading training samples, get additional data from the adapt directory.\\n\", \"        data_file: Number n of the 'chunk' or 'step' (appearing in the file name)\\n\", '        Alternatively, the full file name Xn can be supplied as a string instead of the chunk number.\\n', \"        '''\\n\", '        success = True\\n', '        start = time.time()\\n', '        # Append new data to X and t.\\n', '        if isinstance(data_file, int):\\n', '            data_file = \"X\" + str(data_file)\\n', '        vprint(self.verbose and verbose, \"Data Manager :: ========= Appending samples \" + data_dir +  data_file)\\n', '        X_add, t_add = self.getOneSample(data_file, data_dir)\\n', '        #if t_add[0]==0: print \"New sequence\"\\n', '        #print \"%s %d %d %d\" % (data_file, np.min(t_add), np.max(t_add), len(t_add))\\n', '            \\n', '        if len(self.X)==0:\\n', '            self.X = X_add\\n', '            self.t = t_add\\n', '        else:\\n', '            self.X = np.vstack((self.X, X_add))\\n', '\\n', '            if t_add[0][0] == 0:\\n', '                t_add = np.array([t+1+self.t[-1][0] for t in t_add]).reshape(t_add.shape)\\n', '            self.t = np.vstack((self.t, t_add))\\n', '\\n', '        end = time.time()\\n', '        if len(self.X)==0:\\n', '            success = False \\n', '            vprint(self.verbose and verbose, \"[-] Loading failed\")\\n', '        else:\\n', '            vprint(self.verbose and verbose, \"[+] Success in %5.2f sec\" % (end - start))\\n', '        return success\\n', '        \\n', '    def loadData(self, data_file, data_dir=\"\"):\\n', \"        ''' Erase previous data and load data from a give data file.\\n\", \"        data_file: Number n of the 'chunk' or 'step' (appearing in the file name)\\n\", '        Alternatively, the full file name Xn can be supplied as a string instead of the chunk number.\\n', \"        '''\\n\", '        success = True\\n', '        start = time.time() \\n', '        if isinstance(data_file, int):\\n', '            data_file = \"X\" + str(data_file)\\n', '        vprint(self.verbose, \"Data Manager :: ========= Loading data from \" + data_file)          \\n', '        self.X, self.t = self.getOneSample(data_file, data_dir)\\n', '        end = time.time()\\n', '        if len(self.X)==0:\\n', '            success = False \\n', '            vprint(self.verbose, \"[-] Loading failed\")\\n', '        else:\\n', '            vprint(self.verbose, \"[+] Success in %5.2f sec\" % (end - start))\\n', '        \\n', '        return success\\n', '        \\n', '    def getOneSample(self, data_file, data_dir=\"\"):\\n', \"        ''' Return one video read from hdf5 format: \\n\", '        Parameters: \\n', '            data_file: file name (no extention)\\n', '            data_dir: data path\\n', \"        '''\\n\", '        try:\\n', '            # try:\\n', \"            #     f_0 = h5py.File('./sample_data/train/Xm1/X1.h5','r')#This is the first file and will give the first timestamp t0\\n\", '            #     print data_dir\\n', \"            #     print os.path.join(data_dir,'train/Xm1/X1.h5')\\n\", \"            #     # f_0 = h5py.File(os.path.join(data_dir,'train/Xm1/X1.h5'),'r')\\n\", \"            #     t_0 = np.array(f_0['X']['value']['t']['value'][:])[0][0]\\n\", '            # except: # use the first file in /train/Xm1 as starting file\\n', \"            #     f_0 = sorted(os.listdir('./sample_data/train/Xm1/'), key=lambda f:int(f.split('.')[0].split('X')[-1]))[0]\\n\", \"            #     t_0 = np.array(f_0['X']['value']['t']['value'][:])[0][0]\\n\", '            #     vprint (self.verbose, \"Cannot load train/Xm1/X1.h5 to initialize time indexing. Instead use the first file in train/Xm1/.\")\\n', '            \\n', '            t_0 = 1246492800.0\\n', '            \\n', \"            if not data_file.endswith('.h5'):\\n\", \"                data_file = data_file + '.h5'\\n\", \"            f = h5py.File(os.path.join(data_dir, data_file),'r')\\n\", '            try:\\n', \"                X = np.array(f['X']['value']['X']['value'][:])\\n\", '                \\n', '                ### corrected by Lisheng ####\\n', \"                # if 't' in f: \\n\", \"                #     X = np.array(f['t']['value']['t']['value'][:])\\n\", \"                if 't' in f['X']['value']:\\n\", \"                    t_absolute = np.array(f['X']['value']['t']['value'][:])\\n\", '                    # print t_absolute[:,0].tolist()\\n', '                    # print t_0\\n', '                    # t = [int(float(t_abs-t0)/300) for t_abs in t_absolute.tolist()]\\n', '                    t = [(t_abs-t_0)/300 for t_abs in t_absolute[:,0].tolist()]\\n', '                    # print t\\n', '                    t = np.array(t).reshape(t_absolute.shape)\\n', '\\n', '                ### corrected by Lisheng ####\\n', '                else:\\n', '                    t = np.array(range(X.shape[0]))\\n', '                \\n', \"            except: # Lisheng's simpler format\\n\", '                try:\\n', \"                    X = np.array(f['X'][:])\\n\", \"                    if 't' in f: \\n\", \"                        t = np.array(f['t'][:])   \\n\", '                    else:\\n', '                        t = np.array(range(X.shape[0])) \\n', '                except Exception:\\n', '                    vprint(self.verbose, traceback.format_exc())\\n', '                    X = np.array([])\\n', '                    t = np.array([])  \\n', '                \\n', '            if len(t)==0 or len(t)!=len(X):\\n', '                t = np.array(range(X.shape[0])) \\n', '            if len(X.shape) > 3: # turn to gray levels\\n', '                X = X[:,:,:,0]\\n', '            if self.two_d_map:\\n', '                # X_1d = np.hstack((X,t))\\n', '                # print X_1d.shape\\n', \"                # vprint (self.verbose, 'Mapping X to 2D')\\n\", '                X = self.two_d_mapping(X)\\n', '        except Exception:\\n', '            print(traceback.format_exc())\\n', '\\n', '\\n', '        return (X, t)\\n', '        \\n', '    def saveData(self, data_file, data_dir=\"\", frames=[], format=\\'pickle\\', map_to_1d=True, map_to_1d_when_starts_with=\\'Y\\'):\\n', \"        ''' Save data in picke / h5 format.        Parameters: \\n\", '            data_file: save data under this filename (no extention)\\n', '            data_dir: where to save data\\n', '            frames: specify which lines in the video matrix to be saved,  \\n', '            e.g. frames=(start_frame, end_frame)=(10,15)\\n', '                    default = entire video matrix\\n', \"            format: 'pickle' or 'h5', default = 'pickle'\\n\", \"            map_to_1d: bool. True (by default): map the predictions back to 1d when they are saved with a filename starting with the value of parameter 'map_to_1d_when_starts_with'; False: save data as it is.\\n\", '            map_to_1d_when_starts_with: str. Indicates the starting part of filename which will get mapped to 1d when map_to_1d=True\\n', \"        '''\\n\", '        if not data_file.endswith(format):\\n', \"            data_file = data_file + '.' + format\\n\", '        success = True\\n', '        if data_file.startswith(map_to_1d_when_starts_with) and map_to_1d:\\n', '            two_d_map = False\\n', '            self.X = self.map_back_to_1d(self.X)\\n', '        try:\\n', '            filename = os.path.join(data_dir, data_file)\\n', '            vprint(self.verbose, \"Data Manager :: ========= Saving data to \" + filename)\\n', '\\n', '            start = time.time()\\n', '            # Write some code to save the data\\n', '            if frames: \\n', \"                if format=='h5': \\n\", \"                    with h5py.File(filename, 'w') as f:\\n\", \"                        f.create_dataset(name='X', shape=self.X[frames[0]:frames[1]].shape, \\\\\\n\", '                            data=self.X[frames[0]:frames[1]])\\n', \"                        f.create_dataset(name='t', shape=self.t[frames[0]:frames[1]].shape, \\\\\\n\", '                            data=self.t[frames[0]:frames[1]])\\n', '                else: \\n', \"                    with open(filename, 'wb') as f:\\n\", \"                        dict_to_save = {key:self.__dict__[key] for key in self.__dict__.keys() if not key in ['X', 't']}\\n\", \"                        dict_to_save['X'] = self.X[frames[0]:frames[1]]\\n\", \"                        dict_to_save['t'] = self.t[frames[0]:frames[1]]\\n\", '                        pickle.dump(dict_to_save, f, 2)\\n', '            else: #save the entire matrix\\n', \"                if format=='h5':\\n\", \"                    with h5py.File(filename, 'w') as f:\\n\", \"                        f.create_dataset(name='X', shape=self.__dict__['X'].shape, data=self.__dict__['X'])\\n\", \"                        f.create_dataset(name='t', shape=self.__dict__['t'].shape, data=self.__dict__['t'])\\n\", '                else: \\n', \"                    with open(filename, 'wb') as f:\\n\", '                        pickle.dump(self.__dict__, f, 2) \\n', '        except Exception as e: \\n', '            vprint (self.verbose, e)\\n', '            success = False\\n', '        end = time.time()\\n', '        vprint(self.verbose, \"[+] Success in %5.2f sec\" % (end - start))\\n', '        return success\\n', '\\n', '\\n', '    def reloadData(self, filename=\"\", data_dir=\"\"):\\n', \"        ''' Reload data in pickle format.'''\\n\", '        success = True\\n', '        vprint(self.verbose, \"Data Manager :: ========= Reloading data from \" + filename)\\n', '        start = time.time()\\n', '        # Write some code to reload the data\\n', '        temp =[]\\n', '        try:\\n', \"            if filename.endswith('h5'): \\n\", \"                with h5py.File(os.path.join(data_dir, filename), 'r') as f:\\n\", \"                    self.X = f['X'][:]\\n\", \"                    self.t = f['t'][:]\\n\", \"            elif filename.endswith('pickle'):\\n\", \"                with open(os.path.join(data_dir, filename), 'rb') as f:\\n\", '                    temp = pickle.load(f)\\n', \"                    self.X = temp['X']\\n\", \"                    self.t = temp['t']\\n\", '                    vprint(self.verbose, filename)\\n', '            else:\\n', '                success = False\\n', '                vprint(self.verbose, \"[-] No such file extension.\" + filename)            \\n', '        except Exception as e: \\n', '            vprint (self.verbose, e)\\n', '            success = False \\n', '        end = time.time()\\n', '        if success:\\n', '            vprint(self.verbose, \"[+] Success in %5.2f sec\" % (end - start))\\n', '        return success\\n', '\\n', '    def browse(self):\\n', \"        ''' Open a data browser to browse through the data.'''        \\n\", '\\n', '    def play_video(self):\\n', \"        '''play video in python:\\n\", '        http://stackoverflow.com/questions/21313542/how-to-open-a-mp4-file-with-python\\n', \"        '''\\n\", '\\n', '    def motion_history_image(self, start=0, end=10, step=1, tau=10, d=0):\\n', '        \"\"\"\\n', '        start and end and the first and last frame. step is the stride.\\n', '        tau = 50 means we consider only motions taken within 50 frames.\\n', '        d = difference threshold: \\n', \"        if the difference between 2 images < d at a point (x,y), it's considered a motionless point at t\\n\", '        \"\"\"\\n', '        import matplotlib.pyplot as plt\\n', '        # get video frames \\n', '        nmax = len(self.X)\\n', '        if end>nmax: end=nmax\\n', '        if end<start: end=start\\n', '        frame_index_to_display = range(start, end+1, step)\\n', '        frame_list = self.X[frame_index_to_display]\\n', '        # compute difference images\\n', '        difference_images = np.asarray([frame_list[t+1] - frame_list[t] for t in range(len(frame_list)-1)])\\n', '        tmax,xmax,ymax = difference_images.shape\\n', '        # initialize the motion history image\\n', '        MHI = np.zeros((xmax, ymax))\\n', '        #loop over time\\n', '        for t in range(tmax):        \\n', '            #loop each position\\n', '            for x in range(xmax):\\n', '                for y in range(ymax):\\n', '                    if difference_images[t,x,y] > d: # if moving now\\n', '                        # pixel value = max value = tau\\n', '                        MHI[x,y] = tau \\n', '                    else: # if motionless now\\n', '                        # pixel value decays by 1\\n', '                        MHI[x,y] = max(0, MHI[x,y]-1)         \\n', '        plt.imshow(MHI)\\n', '        plt.colorbar()\\n', '        plt.show()\\n', '        return MHI\\n', '        \\n', '\\n', '    def display(self, start=0, end=0, step=1):\\n', \"        ''' Display frames graphically in a nice way.\\n\", '            start and end and the first and last frame. step is the stride.\\n', \"            self.X is a list of array, each array with shape (32, 32).'''\\n\", '        import matplotlib.pyplot as plt\\n', '        fig = plt.figure()\\n', '        plot_i=1\\n', '        nmax = len(self.X)\\n', '        if end>nmax: end=nmax\\n', '        if end<start: end=start\\n', '        frame_index_to_display = range(start, end+1, step)\\n', '        fnum = len(frame_index_to_display)\\n', '        for i in range(fnum):\\n', '            sf = fig.add_subplot(1, fnum, i+1)\\n', \"            sf.imshow(self.X[frame_index_to_display[i]], cmap='gray', interpolation='None')\\n\", '            plot_i += 1\\n', \"            sf.axis('off')\\n\", '            sf.set_title(str(frame_index_to_display[i]))\\n', '        plt.show()\\n', '\\n', '\\n', '    def two_d_mapping(self, X_1d):\\n', '        \"\"\"\\n', '        map 1-d array to a 2-d space with Self Organizing Maps technique. The map used here is defined by self.map_file\\n', '        \"\"\"\\n', '        try:\\n', '            Midx = np.loadtxt(self.map_file)\\n', '            T = X_1d.shape[0]\\n', '            n = Midx.shape[0] #or[1], Midx is square\\n', '            X_2d = np.empty((T,n,n))\\n', '            for i in range(n):\\n', '                for j in range(n):\\n', '                    X_2d[:,i,j] = X_1d[:, int(Midx[i,j])].reshape((T,))\\n', '            return X_2d\\n', '\\n', '        except Exception:\\n', '            vprint(self.verbose, traceback.format_exc())\\n', '            vprint (self.verbose, \"Error \\\\n Data has not been transformed to 2D array.\") \\n', '            return X_1d\\n', '             # retrain the map\\n', '\\n', '    def map_back_to_1d(self, X_2d):\\n', '        \"\"\"\\n', '        map 2-d array back to 1-d using the same maps for 1-d to 2-d (defined by self.map_file). This is useful when saving predictions\\n', '        for the reason of scoring.\\n', '\\n', '        \"\"\"\\n', '        try:\\n', '            Midx = np.loadtxt(self.map_file)\\n', '            try:\\n', \"                original_Xshape = np.array(h5py.File('./sample_data/train/Xm1/X1.h5','r')['X']['value']['X']['value'][:]).shape\\n\", '            except:\\n', '                vprint (self.verbose, \"Error: Cannot load ./sample_data/train/Xm1/X1.h5.\\\\n Use the default value (1916, 1) for 1d array\") \\n', '                original_Xshape = (12, 1916, 1)\\n', '            # print original_Xshape\\n', '            # print X_2d.shape\\n', '            T, n, _ = X_2d.shape\\n', '            X_1d = np.empty((T, original_Xshape[1], original_Xshape[2]))\\n', '            T,m,_ = X_1d.shape\\n', '            \\n', '            where = 0\\n', '            while where < m:\\n', '                for i in range(n):\\n', '                    for j in range(n):\\n', '                        if int(Midx[i,j]) == where:\\n', '                            X_1d[:, where]=X_2d[:,i,j].reshape(X_1d[:, where].shape)\\n', '                where += 1\\n', '            return X_1d\\n', '            \\n', '\\n', '        except Exception:\\n', '            vprint(self.verbose, traceback.format_exc())\\n', '            vprint (self.verbose, \"Error \\\\n Data has not been transformed back to 1D array.\") \\n', '            return X_2d\\n'], 32)\n",
      "./utilities/data_manager.pyc\n",
      "/Users/lishengsun/Downloads/zSee4C_starting_kit_Lisheng\n",
      "************************************************\n",
      "******** Processing data chunk number 0 ********\n",
      "************************************************\n",
      "Data Manager :: Version = 1\n",
      "Data Manager :: Version = 1\n",
      "Version = Persitent\n",
      "Model :: ========= Adapting model =========\n",
      "[+] Success, model adapted in  0.00 sec\n",
      "Model :: ========= Making predictions =========\n",
      "[+] Success, predictions made in  0.00 sec\n",
      "Data Manager :: ========= Saving data to /Users/lishengsun/Downloads/zSee4C_starting_kit_Lisheng/results/Y0.h5\n",
      "[+] Success in  0.00 sec\n",
      "[+] Done\n",
      "[+] Time spent  1.96 sec ::  Time budget 600.00 sec\n",
      "\n",
      "====> STEP: 1\n",
      "Using input_dir: ./sample_data\n",
      "Using output_dir: /Users/lishengsun/Downloads/zSee4C_starting_kit_Lisheng/results\n",
      "Using code_dir: .\n",
      "Using cache_dir: .\n",
      "{'max_samples': inf, 'verbose': False, 'datatype': 'unknown', 'two_d_map': True, 'use_pickle': False, 'cache_file': '', 'version': '1', 't': array([], dtype=float64), 'X': array([], dtype=float64), 'map_file': './utilities/Midx_199_44by44.txt'}\n",
      "(['class DataManager:\\n', '    \\n', \"    ''' This class aims at loading, saving, and displaying data.\\n\", '    \\n', '    Data members:\\n', '    datatype = one of \"public\", \"feedback\", or \"validate\"\\n', '    X = data matrix, samples in lines (time index increasing with line), features in columns.\\n', '    t = time index. The time index may show ruptures e.g. 0, 1, 2, 3, 0, 1, 2, 3; indicating cuts.\\n', '     \\n', '    Methods defined:\\n', '    __init__ (...)\\n', '        x.__init__([(feature, value)]) -> void\\t\\t\\n', '        Initialize the data members with the tuples (feature, value) given as argument. An unlimited number of tuples can be passed as argument.\\n', '        If input_dir is given, calls loadTrainData.\\n', '        Parameters:\\n', '        two_d_map: bool. Maps 1d array data to 2d using a pre-trained SOM (Self Organizing Map) map when True (default).\\n', \"        map_file: the SOM map used when two_d_map. default ='./utilities/Midx_199_44by44.txt'\\n\", '        \\n', '    loadTrainData (...)\\n', '        x.loadData (input_dir, max_samples=float(\\'inf\\'), verbose=\"True\") -> success\\t\\t\\n', '        Load all the training samples found in directory input_dir/train. \\n', '        Ignores the samples in input_dir/adapt, if any.\\n', '        input_dir/train may contain multiple subdirectories, Xmn/.\\n', '        The data must be read from all of them, it order of DECREASING values of n.\\n', '        The directories contains files Xn.h5, which must be read in order if INCREASING n values.\\n', '        If data are already loaded, this function overwrites X, unless append=\"True\".\\n', '        For speed reasons, stops after max_samples samples (frames) have been read.\\n', '        Returns success=\"True/False\".\\n', '        =============================\\n', '        loadTrainData() returns a ndarray X and a time index array t\\n', '            X.shape(total_num_of_frames=101*125frames/videos, 32,32)\\n', '            t = array([0, ...., 124, 0, ...., 124,...]), t.shape=(total_num_of_frames,)\\n', '\\t\\t\\n', '    appendSamples (...)\\n', '        x.appendSamples (chunk_num, input_dir, verbose=\"True\") -> success\\t\\t\\n', '        Append to X all the samples found in directory input_dir/adapt/Xn.h5, where n=chunk_num.\\n', '        Returns success=\"True/False\".        \\n', '        \\n', '    getInfo (...)\\n', '        x.getInfo () -> string\\t\\n', '        Pretty prints information about the object.\\n', '\\n', '    saveData() \\n', '        save read data (array X, T) to pickle or h5 file\\t\\t\\n', \"    '''\\n\", '\\t\\n', '    def __init__(self, datatype=\"unknown\", data_file=\"\", verbose=False, max_samples=float(\\'inf\\'), cache_file=\"\", two_d_map=True, map_file=\\'./utilities/Midx_199_44by44.txt\\'):\\n', \"        '''Constructor'''\\n\", '        self.version = \"1\"\\n', '        self.datatype = datatype \\n', '        self.verbose = verbose\\n', '        self.max_samples=max_samples\\n', '        self.two_d_map = two_d_map\\n', '        self.map_file = map_file\\n', '        self.cache_file=cache_file # To save/reload data in binary format (only if not empty)\\n', '        if not cache_file: \\n', '            self.use_pickle = False\\n', '        else:\\n', '            self.use_pickle = True\\n', '        self.X = np.array([])\\n', '        self.t = np.array([])\\n', '        vprint(self.verbose, \"Data Manager :: Version = \" + self.version)\\n', '        if data_file:\\n', '            self.loadData(data_file)\\n', '\\n', '           \\n', '    def __repr__(self):\\n', '        return \"DataManager :\\\\n\\\\t\" + str(self.X.__repr__) + \"\\\\n\\\\t\" + str(self.t.__repr__)\\n', '\\n', '    def __str__(self):\\n', '        val = \"DataManager :\\\\n\" + self.getInfo\\n', '        return val\\n', '  \\n', '    def getInfo(self):\\n', \"        '''A nice string with information about the data.'''       \\n\", '        val = \"\"\\n', '        return val\\n', '        \\n', '    def loadTrainData(self, data_dir=\"\", max_samples=float(\\'inf\\')):\\n', \"        ''' Get the data from hdf5 files.'''\\n\", '        success = True\\n', '        data_reloaded = False\\n', '        vprint(self.verbose, \"Data Manager :: ========= Reading training data from \" + data_dir)\\n', '        start = time.time()\\n', '        vid=0\\n', '        if self.use_pickle and self.reloadData(self.cache_file):\\n', '            # Try to reload the file from a pickle\\n', '            data_reloaded = True # Turn \"success\" to false if there is a problem.\\n', '        else:\\n', '            # Load the data into X and t.\\n', '            dir_list = []\\n', '            for dir in os.listdir(data_dir):\\n', '                if os.path.isdir(os.path.join(data_dir, dir)):\\n', '                    dir_list.append(dir)\\n', '            # sort dir in decreasing order of n for n in Xmn        \\n', \"            dir_list = sorted(dir_list, key=lambda i: i.split('m')[-1], reverse=True)\\n\", '            vprint(self.verbose, dir_list)\\n', '            self.X=np.array([]) # Re-initialize from scratch\\n', '            self.t=np.array([])\\n', '            for dir in dir_list:\\n', \"                for data_file in sorted([h5file for h5file in os.listdir(os.path.join(data_dir, dir)) if h5file.endswith('h5')],key=lambda i:int(i.split('.')[0].split('X')[-1])):\\n\", '                    vprint(self.verbose, \"Loading %s\"%data_file)\\n', '                    self.appendSamples(data_file, os.path.join(data_dir, dir), verbose=False)\\n', '                    vid=vid+1\\n', '                   \\n', '        if self.use_pickle and not data_reloaded:\\n', '            # Save data as a pickle for \"faster\" later reload\\n', \"            self.saveData(self.cache_file, format='pickle')\\n\", '            \\n', '        end = time.time()\\n', '        if len(self.X)==0:\\n', '            success = False \\n', '            vprint(self.verbose, \"[-] Loading failed\")\\n', '        else:\\n', '            vprint(self.verbose, \"[+] Success, loaded %d videos in %5.2f sec\" % (vid, end - start))\\n', '        return success\\n', '\\t\\n', '\\n', '    def appendSamples(self, data_file, data_dir=\"\", verbose=False):\\n', \"        ''' After loading training samples, get additional data from the adapt directory.\\n\", \"        data_file: Number n of the 'chunk' or 'step' (appearing in the file name)\\n\", '        Alternatively, the full file name Xn can be supplied as a string instead of the chunk number.\\n', \"        '''\\n\", '        success = True\\n', '        start = time.time()\\n', '        # Append new data to X and t.\\n', '        if isinstance(data_file, int):\\n', '            data_file = \"X\" + str(data_file)\\n', '        vprint(self.verbose and verbose, \"Data Manager :: ========= Appending samples \" + data_dir +  data_file)\\n', '        X_add, t_add = self.getOneSample(data_file, data_dir)\\n', '        #if t_add[0]==0: print \"New sequence\"\\n', '        #print \"%s %d %d %d\" % (data_file, np.min(t_add), np.max(t_add), len(t_add))\\n', '            \\n', '        if len(self.X)==0:\\n', '            self.X = X_add\\n', '            self.t = t_add\\n', '        else:\\n', '            self.X = np.vstack((self.X, X_add))\\n', '\\n', '            if t_add[0][0] == 0:\\n', '                t_add = np.array([t+1+self.t[-1][0] for t in t_add]).reshape(t_add.shape)\\n', '            self.t = np.vstack((self.t, t_add))\\n', '\\n', '        end = time.time()\\n', '        if len(self.X)==0:\\n', '            success = False \\n', '            vprint(self.verbose and verbose, \"[-] Loading failed\")\\n', '        else:\\n', '            vprint(self.verbose and verbose, \"[+] Success in %5.2f sec\" % (end - start))\\n', '        return success\\n', '        \\n', '    def loadData(self, data_file, data_dir=\"\"):\\n', \"        ''' Erase previous data and load data from a give data file.\\n\", \"        data_file: Number n of the 'chunk' or 'step' (appearing in the file name)\\n\", '        Alternatively, the full file name Xn can be supplied as a string instead of the chunk number.\\n', \"        '''\\n\", '        success = True\\n', '        start = time.time() \\n', '        if isinstance(data_file, int):\\n', '            data_file = \"X\" + str(data_file)\\n', '        vprint(self.verbose, \"Data Manager :: ========= Loading data from \" + data_file)          \\n', '        self.X, self.t = self.getOneSample(data_file, data_dir)\\n', '        end = time.time()\\n', '        if len(self.X)==0:\\n', '            success = False \\n', '            vprint(self.verbose, \"[-] Loading failed\")\\n', '        else:\\n', '            vprint(self.verbose, \"[+] Success in %5.2f sec\" % (end - start))\\n', '        \\n', '        return success\\n', '        \\n', '    def getOneSample(self, data_file, data_dir=\"\"):\\n', \"        ''' Return one video read from hdf5 format: \\n\", '        Parameters: \\n', '            data_file: file name (no extention)\\n', '            data_dir: data path\\n', \"        '''\\n\", '        try:\\n', '            # try:\\n', \"            #     f_0 = h5py.File('./sample_data/train/Xm1/X1.h5','r')#This is the first file and will give the first timestamp t0\\n\", '            #     print data_dir\\n', \"            #     print os.path.join(data_dir,'train/Xm1/X1.h5')\\n\", \"            #     # f_0 = h5py.File(os.path.join(data_dir,'train/Xm1/X1.h5'),'r')\\n\", \"            #     t_0 = np.array(f_0['X']['value']['t']['value'][:])[0][0]\\n\", '            # except: # use the first file in /train/Xm1 as starting file\\n', \"            #     f_0 = sorted(os.listdir('./sample_data/train/Xm1/'), key=lambda f:int(f.split('.')[0].split('X')[-1]))[0]\\n\", \"            #     t_0 = np.array(f_0['X']['value']['t']['value'][:])[0][0]\\n\", '            #     vprint (self.verbose, \"Cannot load train/Xm1/X1.h5 to initialize time indexing. Instead use the first file in train/Xm1/.\")\\n', '            \\n', '            t_0 = 1246492800.0\\n', '            \\n', \"            if not data_file.endswith('.h5'):\\n\", \"                data_file = data_file + '.h5'\\n\", \"            f = h5py.File(os.path.join(data_dir, data_file),'r')\\n\", '            try:\\n', \"                X = np.array(f['X']['value']['X']['value'][:])\\n\", '                \\n', '                ### corrected by Lisheng ####\\n', \"                # if 't' in f: \\n\", \"                #     X = np.array(f['t']['value']['t']['value'][:])\\n\", \"                if 't' in f['X']['value']:\\n\", \"                    t_absolute = np.array(f['X']['value']['t']['value'][:])\\n\", '                    # print t_absolute[:,0].tolist()\\n', '                    # print t_0\\n', '                    # t = [int(float(t_abs-t0)/300) for t_abs in t_absolute.tolist()]\\n', '                    t = [(t_abs-t_0)/300 for t_abs in t_absolute[:,0].tolist()]\\n', '                    # print t\\n', '                    t = np.array(t).reshape(t_absolute.shape)\\n', '\\n', '                ### corrected by Lisheng ####\\n', '                else:\\n', '                    t = np.array(range(X.shape[0]))\\n', '                \\n', \"            except: # Lisheng's simpler format\\n\", '                try:\\n', \"                    X = np.array(f['X'][:])\\n\", \"                    if 't' in f: \\n\", \"                        t = np.array(f['t'][:])   \\n\", '                    else:\\n', '                        t = np.array(range(X.shape[0])) \\n', '                except Exception:\\n', '                    vprint(self.verbose, traceback.format_exc())\\n', '                    X = np.array([])\\n', '                    t = np.array([])  \\n', '                \\n', '            if len(t)==0 or len(t)!=len(X):\\n', '                t = np.array(range(X.shape[0])) \\n', '            if len(X.shape) > 3: # turn to gray levels\\n', '                X = X[:,:,:,0]\\n', '            if self.two_d_map:\\n', '                # X_1d = np.hstack((X,t))\\n', '                # print X_1d.shape\\n', \"                # vprint (self.verbose, 'Mapping X to 2D')\\n\", '                X = self.two_d_mapping(X)\\n', '        except Exception:\\n', '            print(traceback.format_exc())\\n', '\\n', '\\n', '        return (X, t)\\n', '        \\n', '    def saveData(self, data_file, data_dir=\"\", frames=[], format=\\'pickle\\', map_to_1d=True, map_to_1d_when_starts_with=\\'Y\\'):\\n', \"        ''' Save data in picke / h5 format.        Parameters: \\n\", '            data_file: save data under this filename (no extention)\\n', '            data_dir: where to save data\\n', '            frames: specify which lines in the video matrix to be saved,  \\n', '            e.g. frames=(start_frame, end_frame)=(10,15)\\n', '                    default = entire video matrix\\n', \"            format: 'pickle' or 'h5', default = 'pickle'\\n\", \"            map_to_1d: bool. True (by default): map the predictions back to 1d when they are saved with a filename starting with the value of parameter 'map_to_1d_when_starts_with'; False: save data as it is.\\n\", '            map_to_1d_when_starts_with: str. Indicates the starting part of filename which will get mapped to 1d when map_to_1d=True\\n', \"        '''\\n\", '        if not data_file.endswith(format):\\n', \"            data_file = data_file + '.' + format\\n\", '        success = True\\n', '        if data_file.startswith(map_to_1d_when_starts_with) and map_to_1d:\\n', '            two_d_map = False\\n', '            self.X = self.map_back_to_1d(self.X)\\n', '        try:\\n', '            filename = os.path.join(data_dir, data_file)\\n', '            vprint(self.verbose, \"Data Manager :: ========= Saving data to \" + filename)\\n', '\\n', '            start = time.time()\\n', '            # Write some code to save the data\\n', '            if frames: \\n', \"                if format=='h5': \\n\", \"                    with h5py.File(filename, 'w') as f:\\n\", \"                        f.create_dataset(name='X', shape=self.X[frames[0]:frames[1]].shape, \\\\\\n\", '                            data=self.X[frames[0]:frames[1]])\\n', \"                        f.create_dataset(name='t', shape=self.t[frames[0]:frames[1]].shape, \\\\\\n\", '                            data=self.t[frames[0]:frames[1]])\\n', '                else: \\n', \"                    with open(filename, 'wb') as f:\\n\", \"                        dict_to_save = {key:self.__dict__[key] for key in self.__dict__.keys() if not key in ['X', 't']}\\n\", \"                        dict_to_save['X'] = self.X[frames[0]:frames[1]]\\n\", \"                        dict_to_save['t'] = self.t[frames[0]:frames[1]]\\n\", '                        pickle.dump(dict_to_save, f, 2)\\n', '            else: #save the entire matrix\\n', \"                if format=='h5':\\n\", \"                    with h5py.File(filename, 'w') as f:\\n\", \"                        f.create_dataset(name='X', shape=self.__dict__['X'].shape, data=self.__dict__['X'])\\n\", \"                        f.create_dataset(name='t', shape=self.__dict__['t'].shape, data=self.__dict__['t'])\\n\", '                else: \\n', \"                    with open(filename, 'wb') as f:\\n\", '                        pickle.dump(self.__dict__, f, 2) \\n', '        except Exception as e: \\n', '            vprint (self.verbose, e)\\n', '            success = False\\n', '        end = time.time()\\n', '        vprint(self.verbose, \"[+] Success in %5.2f sec\" % (end - start))\\n', '        return success\\n', '\\n', '\\n', '    def reloadData(self, filename=\"\", data_dir=\"\"):\\n', \"        ''' Reload data in pickle format.'''\\n\", '        success = True\\n', '        vprint(self.verbose, \"Data Manager :: ========= Reloading data from \" + filename)\\n', '        start = time.time()\\n', '        # Write some code to reload the data\\n', '        temp =[]\\n', '        try:\\n', \"            if filename.endswith('h5'): \\n\", \"                with h5py.File(os.path.join(data_dir, filename), 'r') as f:\\n\", \"                    self.X = f['X'][:]\\n\", \"                    self.t = f['t'][:]\\n\", \"            elif filename.endswith('pickle'):\\n\", \"                with open(os.path.join(data_dir, filename), 'rb') as f:\\n\", '                    temp = pickle.load(f)\\n', \"                    self.X = temp['X']\\n\", \"                    self.t = temp['t']\\n\", '                    vprint(self.verbose, filename)\\n', '            else:\\n', '                success = False\\n', '                vprint(self.verbose, \"[-] No such file extension.\" + filename)            \\n', '        except Exception as e: \\n', '            vprint (self.verbose, e)\\n', '            success = False \\n', '        end = time.time()\\n', '        if success:\\n', '            vprint(self.verbose, \"[+] Success in %5.2f sec\" % (end - start))\\n', '        return success\\n', '\\n', '    def browse(self):\\n', \"        ''' Open a data browser to browse through the data.'''        \\n\", '\\n', '    def play_video(self):\\n', \"        '''play video in python:\\n\", '        http://stackoverflow.com/questions/21313542/how-to-open-a-mp4-file-with-python\\n', \"        '''\\n\", '\\n', '    def motion_history_image(self, start=0, end=10, step=1, tau=10, d=0):\\n', '        \"\"\"\\n', '        start and end and the first and last frame. step is the stride.\\n', '        tau = 50 means we consider only motions taken within 50 frames.\\n', '        d = difference threshold: \\n', \"        if the difference between 2 images < d at a point (x,y), it's considered a motionless point at t\\n\", '        \"\"\"\\n', '        import matplotlib.pyplot as plt\\n', '        # get video frames \\n', '        nmax = len(self.X)\\n', '        if end>nmax: end=nmax\\n', '        if end<start: end=start\\n', '        frame_index_to_display = range(start, end+1, step)\\n', '        frame_list = self.X[frame_index_to_display]\\n', '        # compute difference images\\n', '        difference_images = np.asarray([frame_list[t+1] - frame_list[t] for t in range(len(frame_list)-1)])\\n', '        tmax,xmax,ymax = difference_images.shape\\n', '        # initialize the motion history image\\n', '        MHI = np.zeros((xmax, ymax))\\n', '        #loop over time\\n', '        for t in range(tmax):        \\n', '            #loop each position\\n', '            for x in range(xmax):\\n', '                for y in range(ymax):\\n', '                    if difference_images[t,x,y] > d: # if moving now\\n', '                        # pixel value = max value = tau\\n', '                        MHI[x,y] = tau \\n', '                    else: # if motionless now\\n', '                        # pixel value decays by 1\\n', '                        MHI[x,y] = max(0, MHI[x,y]-1)         \\n', '        plt.imshow(MHI)\\n', '        plt.colorbar()\\n', '        plt.show()\\n', '        return MHI\\n', '        \\n', '\\n', '    def display(self, start=0, end=0, step=1):\\n', \"        ''' Display frames graphically in a nice way.\\n\", '            start and end and the first and last frame. step is the stride.\\n', \"            self.X is a list of array, each array with shape (32, 32).'''\\n\", '        import matplotlib.pyplot as plt\\n', '        fig = plt.figure()\\n', '        plot_i=1\\n', '        nmax = len(self.X)\\n', '        if end>nmax: end=nmax\\n', '        if end<start: end=start\\n', '        frame_index_to_display = range(start, end+1, step)\\n', '        fnum = len(frame_index_to_display)\\n', '        for i in range(fnum):\\n', '            sf = fig.add_subplot(1, fnum, i+1)\\n', \"            sf.imshow(self.X[frame_index_to_display[i]], cmap='gray', interpolation='None')\\n\", '            plot_i += 1\\n', \"            sf.axis('off')\\n\", '            sf.set_title(str(frame_index_to_display[i]))\\n', '        plt.show()\\n', '\\n', '\\n', '    def two_d_mapping(self, X_1d):\\n', '        \"\"\"\\n', '        map 1-d array to a 2-d space with Self Organizing Maps technique. The map used here is defined by self.map_file\\n', '        \"\"\"\\n', '        try:\\n', '            Midx = np.loadtxt(self.map_file)\\n', '            T = X_1d.shape[0]\\n', '            n = Midx.shape[0] #or[1], Midx is square\\n', '            X_2d = np.empty((T,n,n))\\n', '            for i in range(n):\\n', '                for j in range(n):\\n', '                    X_2d[:,i,j] = X_1d[:, int(Midx[i,j])].reshape((T,))\\n', '            return X_2d\\n', '\\n', '        except Exception:\\n', '            vprint(self.verbose, traceback.format_exc())\\n', '            vprint (self.verbose, \"Error \\\\n Data has not been transformed to 2D array.\") \\n', '            return X_1d\\n', '             # retrain the map\\n', '\\n', '    def map_back_to_1d(self, X_2d):\\n', '        \"\"\"\\n', '        map 2-d array back to 1-d using the same maps for 1-d to 2-d (defined by self.map_file). This is useful when saving predictions\\n', '        for the reason of scoring.\\n', '\\n', '        \"\"\"\\n', '        try:\\n', '            Midx = np.loadtxt(self.map_file)\\n', '            try:\\n', \"                original_Xshape = np.array(h5py.File('./sample_data/train/Xm1/X1.h5','r')['X']['value']['X']['value'][:]).shape\\n\", '            except:\\n', '                vprint (self.verbose, \"Error: Cannot load ./sample_data/train/Xm1/X1.h5.\\\\n Use the default value (1916, 1) for 1d array\") \\n', '                original_Xshape = (12, 1916, 1)\\n', '            # print original_Xshape\\n', '            # print X_2d.shape\\n', '            T, n, _ = X_2d.shape\\n', '            X_1d = np.empty((T, original_Xshape[1], original_Xshape[2]))\\n', '            T,m,_ = X_1d.shape\\n', '            \\n', '            where = 0\\n', '            while where < m:\\n', '                for i in range(n):\\n', '                    for j in range(n):\\n', '                        if int(Midx[i,j]) == where:\\n', '                            X_1d[:, where]=X_2d[:,i,j].reshape(X_1d[:, where].shape)\\n', '                where += 1\\n', '            return X_1d\\n', '            \\n', '\\n', '        except Exception:\\n', '            vprint(self.verbose, traceback.format_exc())\\n', '            vprint (self.verbose, \"Error \\\\n Data has not been transformed back to 1D array.\") \\n', '            return X_2d\\n'], 32)\n",
      "./utilities/data_manager.pyc\n",
      "/Users/lishengsun/Downloads/zSee4C_starting_kit_Lisheng\n",
      "************************************************\n",
      "******** Processing data chunk number 1 ********\n",
      "************************************************\n",
      "Data Manager :: Version = 1\n",
      "Data Manager :: Version = 1\n",
      "Version = Persitent\n",
      "Model :: ========= Adapting model =========\n",
      "[+] Success, model adapted in  0.00 sec\n",
      "Model :: ========= Making predictions =========\n",
      "[+] Success, predictions made in  0.00 sec\n",
      "Data Manager :: ========= Saving data to /Users/lishengsun/Downloads/zSee4C_starting_kit_Lisheng/results/Y1.h5\n",
      "[+] Success in  0.00 sec\n",
      "[+] Done\n",
      "[+] Time spent  2.48 sec ::  Time budget 600.00 sec\n",
      "\n",
      "====> STEP: 2\n",
      "Using input_dir: ./sample_data\n",
      "Using output_dir: /Users/lishengsun/Downloads/zSee4C_starting_kit_Lisheng/results\n",
      "Using code_dir: .\n",
      "Using cache_dir: .\n",
      "{'max_samples': inf, 'verbose': False, 'datatype': 'unknown', 'two_d_map': True, 'use_pickle': False, 'cache_file': '', 'version': '1', 't': array([], dtype=float64), 'X': array([], dtype=float64), 'map_file': './utilities/Midx_199_44by44.txt'}\n",
      "(['class DataManager:\\n', '    \\n', \"    ''' This class aims at loading, saving, and displaying data.\\n\", '    \\n', '    Data members:\\n', '    datatype = one of \"public\", \"feedback\", or \"validate\"\\n', '    X = data matrix, samples in lines (time index increasing with line), features in columns.\\n', '    t = time index. The time index may show ruptures e.g. 0, 1, 2, 3, 0, 1, 2, 3; indicating cuts.\\n', '     \\n', '    Methods defined:\\n', '    __init__ (...)\\n', '        x.__init__([(feature, value)]) -> void\\t\\t\\n', '        Initialize the data members with the tuples (feature, value) given as argument. An unlimited number of tuples can be passed as argument.\\n', '        If input_dir is given, calls loadTrainData.\\n', '        Parameters:\\n', '        two_d_map: bool. Maps 1d array data to 2d using a pre-trained SOM (Self Organizing Map) map when True (default).\\n', \"        map_file: the SOM map used when two_d_map. default ='./utilities/Midx_199_44by44.txt'\\n\", '        \\n', '    loadTrainData (...)\\n', '        x.loadData (input_dir, max_samples=float(\\'inf\\'), verbose=\"True\") -> success\\t\\t\\n', '        Load all the training samples found in directory input_dir/train. \\n', '        Ignores the samples in input_dir/adapt, if any.\\n', '        input_dir/train may contain multiple subdirectories, Xmn/.\\n', '        The data must be read from all of them, it order of DECREASING values of n.\\n', '        The directories contains files Xn.h5, which must be read in order if INCREASING n values.\\n', '        If data are already loaded, this function overwrites X, unless append=\"True\".\\n', '        For speed reasons, stops after max_samples samples (frames) have been read.\\n', '        Returns success=\"True/False\".\\n', '        =============================\\n', '        loadTrainData() returns a ndarray X and a time index array t\\n', '            X.shape(total_num_of_frames=101*125frames/videos, 32,32)\\n', '            t = array([0, ...., 124, 0, ...., 124,...]), t.shape=(total_num_of_frames,)\\n', '\\t\\t\\n', '    appendSamples (...)\\n', '        x.appendSamples (chunk_num, input_dir, verbose=\"True\") -> success\\t\\t\\n', '        Append to X all the samples found in directory input_dir/adapt/Xn.h5, where n=chunk_num.\\n', '        Returns success=\"True/False\".        \\n', '        \\n', '    getInfo (...)\\n', '        x.getInfo () -> string\\t\\n', '        Pretty prints information about the object.\\n', '\\n', '    saveData() \\n', '        save read data (array X, T) to pickle or h5 file\\t\\t\\n', \"    '''\\n\", '\\t\\n', '    def __init__(self, datatype=\"unknown\", data_file=\"\", verbose=False, max_samples=float(\\'inf\\'), cache_file=\"\", two_d_map=True, map_file=\\'./utilities/Midx_199_44by44.txt\\'):\\n', \"        '''Constructor'''\\n\", '        self.version = \"1\"\\n', '        self.datatype = datatype \\n', '        self.verbose = verbose\\n', '        self.max_samples=max_samples\\n', '        self.two_d_map = two_d_map\\n', '        self.map_file = map_file\\n', '        self.cache_file=cache_file # To save/reload data in binary format (only if not empty)\\n', '        if not cache_file: \\n', '            self.use_pickle = False\\n', '        else:\\n', '            self.use_pickle = True\\n', '        self.X = np.array([])\\n', '        self.t = np.array([])\\n', '        vprint(self.verbose, \"Data Manager :: Version = \" + self.version)\\n', '        if data_file:\\n', '            self.loadData(data_file)\\n', '\\n', '           \\n', '    def __repr__(self):\\n', '        return \"DataManager :\\\\n\\\\t\" + str(self.X.__repr__) + \"\\\\n\\\\t\" + str(self.t.__repr__)\\n', '\\n', '    def __str__(self):\\n', '        val = \"DataManager :\\\\n\" + self.getInfo\\n', '        return val\\n', '  \\n', '    def getInfo(self):\\n', \"        '''A nice string with information about the data.'''       \\n\", '        val = \"\"\\n', '        return val\\n', '        \\n', '    def loadTrainData(self, data_dir=\"\", max_samples=float(\\'inf\\')):\\n', \"        ''' Get the data from hdf5 files.'''\\n\", '        success = True\\n', '        data_reloaded = False\\n', '        vprint(self.verbose, \"Data Manager :: ========= Reading training data from \" + data_dir)\\n', '        start = time.time()\\n', '        vid=0\\n', '        if self.use_pickle and self.reloadData(self.cache_file):\\n', '            # Try to reload the file from a pickle\\n', '            data_reloaded = True # Turn \"success\" to false if there is a problem.\\n', '        else:\\n', '            # Load the data into X and t.\\n', '            dir_list = []\\n', '            for dir in os.listdir(data_dir):\\n', '                if os.path.isdir(os.path.join(data_dir, dir)):\\n', '                    dir_list.append(dir)\\n', '            # sort dir in decreasing order of n for n in Xmn        \\n', \"            dir_list = sorted(dir_list, key=lambda i: i.split('m')[-1], reverse=True)\\n\", '            vprint(self.verbose, dir_list)\\n', '            self.X=np.array([]) # Re-initialize from scratch\\n', '            self.t=np.array([])\\n', '            for dir in dir_list:\\n', \"                for data_file in sorted([h5file for h5file in os.listdir(os.path.join(data_dir, dir)) if h5file.endswith('h5')],key=lambda i:int(i.split('.')[0].split('X')[-1])):\\n\", '                    vprint(self.verbose, \"Loading %s\"%data_file)\\n', '                    self.appendSamples(data_file, os.path.join(data_dir, dir), verbose=False)\\n', '                    vid=vid+1\\n', '                   \\n', '        if self.use_pickle and not data_reloaded:\\n', '            # Save data as a pickle for \"faster\" later reload\\n', \"            self.saveData(self.cache_file, format='pickle')\\n\", '            \\n', '        end = time.time()\\n', '        if len(self.X)==0:\\n', '            success = False \\n', '            vprint(self.verbose, \"[-] Loading failed\")\\n', '        else:\\n', '            vprint(self.verbose, \"[+] Success, loaded %d videos in %5.2f sec\" % (vid, end - start))\\n', '        return success\\n', '\\t\\n', '\\n', '    def appendSamples(self, data_file, data_dir=\"\", verbose=False):\\n', \"        ''' After loading training samples, get additional data from the adapt directory.\\n\", \"        data_file: Number n of the 'chunk' or 'step' (appearing in the file name)\\n\", '        Alternatively, the full file name Xn can be supplied as a string instead of the chunk number.\\n', \"        '''\\n\", '        success = True\\n', '        start = time.time()\\n', '        # Append new data to X and t.\\n', '        if isinstance(data_file, int):\\n', '            data_file = \"X\" + str(data_file)\\n', '        vprint(self.verbose and verbose, \"Data Manager :: ========= Appending samples \" + data_dir +  data_file)\\n', '        X_add, t_add = self.getOneSample(data_file, data_dir)\\n', '        #if t_add[0]==0: print \"New sequence\"\\n', '        #print \"%s %d %d %d\" % (data_file, np.min(t_add), np.max(t_add), len(t_add))\\n', '            \\n', '        if len(self.X)==0:\\n', '            self.X = X_add\\n', '            self.t = t_add\\n', '        else:\\n', '            self.X = np.vstack((self.X, X_add))\\n', '\\n', '            if t_add[0][0] == 0:\\n', '                t_add = np.array([t+1+self.t[-1][0] for t in t_add]).reshape(t_add.shape)\\n', '            self.t = np.vstack((self.t, t_add))\\n', '\\n', '        end = time.time()\\n', '        if len(self.X)==0:\\n', '            success = False \\n', '            vprint(self.verbose and verbose, \"[-] Loading failed\")\\n', '        else:\\n', '            vprint(self.verbose and verbose, \"[+] Success in %5.2f sec\" % (end - start))\\n', '        return success\\n', '        \\n', '    def loadData(self, data_file, data_dir=\"\"):\\n', \"        ''' Erase previous data and load data from a give data file.\\n\", \"        data_file: Number n of the 'chunk' or 'step' (appearing in the file name)\\n\", '        Alternatively, the full file name Xn can be supplied as a string instead of the chunk number.\\n', \"        '''\\n\", '        success = True\\n', '        start = time.time() \\n', '        if isinstance(data_file, int):\\n', '            data_file = \"X\" + str(data_file)\\n', '        vprint(self.verbose, \"Data Manager :: ========= Loading data from \" + data_file)          \\n', '        self.X, self.t = self.getOneSample(data_file, data_dir)\\n', '        end = time.time()\\n', '        if len(self.X)==0:\\n', '            success = False \\n', '            vprint(self.verbose, \"[-] Loading failed\")\\n', '        else:\\n', '            vprint(self.verbose, \"[+] Success in %5.2f sec\" % (end - start))\\n', '        \\n', '        return success\\n', '        \\n', '    def getOneSample(self, data_file, data_dir=\"\"):\\n', \"        ''' Return one video read from hdf5 format: \\n\", '        Parameters: \\n', '            data_file: file name (no extention)\\n', '            data_dir: data path\\n', \"        '''\\n\", '        try:\\n', '            # try:\\n', \"            #     f_0 = h5py.File('./sample_data/train/Xm1/X1.h5','r')#This is the first file and will give the first timestamp t0\\n\", '            #     print data_dir\\n', \"            #     print os.path.join(data_dir,'train/Xm1/X1.h5')\\n\", \"            #     # f_0 = h5py.File(os.path.join(data_dir,'train/Xm1/X1.h5'),'r')\\n\", \"            #     t_0 = np.array(f_0['X']['value']['t']['value'][:])[0][0]\\n\", '            # except: # use the first file in /train/Xm1 as starting file\\n', \"            #     f_0 = sorted(os.listdir('./sample_data/train/Xm1/'), key=lambda f:int(f.split('.')[0].split('X')[-1]))[0]\\n\", \"            #     t_0 = np.array(f_0['X']['value']['t']['value'][:])[0][0]\\n\", '            #     vprint (self.verbose, \"Cannot load train/Xm1/X1.h5 to initialize time indexing. Instead use the first file in train/Xm1/.\")\\n', '            \\n', '            t_0 = 1246492800.0\\n', '            \\n', \"            if not data_file.endswith('.h5'):\\n\", \"                data_file = data_file + '.h5'\\n\", \"            f = h5py.File(os.path.join(data_dir, data_file),'r')\\n\", '            try:\\n', \"                X = np.array(f['X']['value']['X']['value'][:])\\n\", '                \\n', '                ### corrected by Lisheng ####\\n', \"                # if 't' in f: \\n\", \"                #     X = np.array(f['t']['value']['t']['value'][:])\\n\", \"                if 't' in f['X']['value']:\\n\", \"                    t_absolute = np.array(f['X']['value']['t']['value'][:])\\n\", '                    # print t_absolute[:,0].tolist()\\n', '                    # print t_0\\n', '                    # t = [int(float(t_abs-t0)/300) for t_abs in t_absolute.tolist()]\\n', '                    t = [(t_abs-t_0)/300 for t_abs in t_absolute[:,0].tolist()]\\n', '                    # print t\\n', '                    t = np.array(t).reshape(t_absolute.shape)\\n', '\\n', '                ### corrected by Lisheng ####\\n', '                else:\\n', '                    t = np.array(range(X.shape[0]))\\n', '                \\n', \"            except: # Lisheng's simpler format\\n\", '                try:\\n', \"                    X = np.array(f['X'][:])\\n\", \"                    if 't' in f: \\n\", \"                        t = np.array(f['t'][:])   \\n\", '                    else:\\n', '                        t = np.array(range(X.shape[0])) \\n', '                except Exception:\\n', '                    vprint(self.verbose, traceback.format_exc())\\n', '                    X = np.array([])\\n', '                    t = np.array([])  \\n', '                \\n', '            if len(t)==0 or len(t)!=len(X):\\n', '                t = np.array(range(X.shape[0])) \\n', '            if len(X.shape) > 3: # turn to gray levels\\n', '                X = X[:,:,:,0]\\n', '            if self.two_d_map:\\n', '                # X_1d = np.hstack((X,t))\\n', '                # print X_1d.shape\\n', \"                # vprint (self.verbose, 'Mapping X to 2D')\\n\", '                X = self.two_d_mapping(X)\\n', '        except Exception:\\n', '            print(traceback.format_exc())\\n', '\\n', '\\n', '        return (X, t)\\n', '        \\n', '    def saveData(self, data_file, data_dir=\"\", frames=[], format=\\'pickle\\', map_to_1d=True, map_to_1d_when_starts_with=\\'Y\\'):\\n', \"        ''' Save data in picke / h5 format.        Parameters: \\n\", '            data_file: save data under this filename (no extention)\\n', '            data_dir: where to save data\\n', '            frames: specify which lines in the video matrix to be saved,  \\n', '            e.g. frames=(start_frame, end_frame)=(10,15)\\n', '                    default = entire video matrix\\n', \"            format: 'pickle' or 'h5', default = 'pickle'\\n\", \"            map_to_1d: bool. True (by default): map the predictions back to 1d when they are saved with a filename starting with the value of parameter 'map_to_1d_when_starts_with'; False: save data as it is.\\n\", '            map_to_1d_when_starts_with: str. Indicates the starting part of filename which will get mapped to 1d when map_to_1d=True\\n', \"        '''\\n\", '        if not data_file.endswith(format):\\n', \"            data_file = data_file + '.' + format\\n\", '        success = True\\n', '        if data_file.startswith(map_to_1d_when_starts_with) and map_to_1d:\\n', '            two_d_map = False\\n', '            self.X = self.map_back_to_1d(self.X)\\n', '        try:\\n', '            filename = os.path.join(data_dir, data_file)\\n', '            vprint(self.verbose, \"Data Manager :: ========= Saving data to \" + filename)\\n', '\\n', '            start = time.time()\\n', '            # Write some code to save the data\\n', '            if frames: \\n', \"                if format=='h5': \\n\", \"                    with h5py.File(filename, 'w') as f:\\n\", \"                        f.create_dataset(name='X', shape=self.X[frames[0]:frames[1]].shape, \\\\\\n\", '                            data=self.X[frames[0]:frames[1]])\\n', \"                        f.create_dataset(name='t', shape=self.t[frames[0]:frames[1]].shape, \\\\\\n\", '                            data=self.t[frames[0]:frames[1]])\\n', '                else: \\n', \"                    with open(filename, 'wb') as f:\\n\", \"                        dict_to_save = {key:self.__dict__[key] for key in self.__dict__.keys() if not key in ['X', 't']}\\n\", \"                        dict_to_save['X'] = self.X[frames[0]:frames[1]]\\n\", \"                        dict_to_save['t'] = self.t[frames[0]:frames[1]]\\n\", '                        pickle.dump(dict_to_save, f, 2)\\n', '            else: #save the entire matrix\\n', \"                if format=='h5':\\n\", \"                    with h5py.File(filename, 'w') as f:\\n\", \"                        f.create_dataset(name='X', shape=self.__dict__['X'].shape, data=self.__dict__['X'])\\n\", \"                        f.create_dataset(name='t', shape=self.__dict__['t'].shape, data=self.__dict__['t'])\\n\", '                else: \\n', \"                    with open(filename, 'wb') as f:\\n\", '                        pickle.dump(self.__dict__, f, 2) \\n', '        except Exception as e: \\n', '            vprint (self.verbose, e)\\n', '            success = False\\n', '        end = time.time()\\n', '        vprint(self.verbose, \"[+] Success in %5.2f sec\" % (end - start))\\n', '        return success\\n', '\\n', '\\n', '    def reloadData(self, filename=\"\", data_dir=\"\"):\\n', \"        ''' Reload data in pickle format.'''\\n\", '        success = True\\n', '        vprint(self.verbose, \"Data Manager :: ========= Reloading data from \" + filename)\\n', '        start = time.time()\\n', '        # Write some code to reload the data\\n', '        temp =[]\\n', '        try:\\n', \"            if filename.endswith('h5'): \\n\", \"                with h5py.File(os.path.join(data_dir, filename), 'r') as f:\\n\", \"                    self.X = f['X'][:]\\n\", \"                    self.t = f['t'][:]\\n\", \"            elif filename.endswith('pickle'):\\n\", \"                with open(os.path.join(data_dir, filename), 'rb') as f:\\n\", '                    temp = pickle.load(f)\\n', \"                    self.X = temp['X']\\n\", \"                    self.t = temp['t']\\n\", '                    vprint(self.verbose, filename)\\n', '            else:\\n', '                success = False\\n', '                vprint(self.verbose, \"[-] No such file extension.\" + filename)            \\n', '        except Exception as e: \\n', '            vprint (self.verbose, e)\\n', '            success = False \\n', '        end = time.time()\\n', '        if success:\\n', '            vprint(self.verbose, \"[+] Success in %5.2f sec\" % (end - start))\\n', '        return success\\n', '\\n', '    def browse(self):\\n', \"        ''' Open a data browser to browse through the data.'''        \\n\", '\\n', '    def play_video(self):\\n', \"        '''play video in python:\\n\", '        http://stackoverflow.com/questions/21313542/how-to-open-a-mp4-file-with-python\\n', \"        '''\\n\", '\\n', '    def motion_history_image(self, start=0, end=10, step=1, tau=10, d=0):\\n', '        \"\"\"\\n', '        start and end and the first and last frame. step is the stride.\\n', '        tau = 50 means we consider only motions taken within 50 frames.\\n', '        d = difference threshold: \\n', \"        if the difference between 2 images < d at a point (x,y), it's considered a motionless point at t\\n\", '        \"\"\"\\n', '        import matplotlib.pyplot as plt\\n', '        # get video frames \\n', '        nmax = len(self.X)\\n', '        if end>nmax: end=nmax\\n', '        if end<start: end=start\\n', '        frame_index_to_display = range(start, end+1, step)\\n', '        frame_list = self.X[frame_index_to_display]\\n', '        # compute difference images\\n', '        difference_images = np.asarray([frame_list[t+1] - frame_list[t] for t in range(len(frame_list)-1)])\\n', '        tmax,xmax,ymax = difference_images.shape\\n', '        # initialize the motion history image\\n', '        MHI = np.zeros((xmax, ymax))\\n', '        #loop over time\\n', '        for t in range(tmax):        \\n', '            #loop each position\\n', '            for x in range(xmax):\\n', '                for y in range(ymax):\\n', '                    if difference_images[t,x,y] > d: # if moving now\\n', '                        # pixel value = max value = tau\\n', '                        MHI[x,y] = tau \\n', '                    else: # if motionless now\\n', '                        # pixel value decays by 1\\n', '                        MHI[x,y] = max(0, MHI[x,y]-1)         \\n', '        plt.imshow(MHI)\\n', '        plt.colorbar()\\n', '        plt.show()\\n', '        return MHI\\n', '        \\n', '\\n', '    def display(self, start=0, end=0, step=1):\\n', \"        ''' Display frames graphically in a nice way.\\n\", '            start and end and the first and last frame. step is the stride.\\n', \"            self.X is a list of array, each array with shape (32, 32).'''\\n\", '        import matplotlib.pyplot as plt\\n', '        fig = plt.figure()\\n', '        plot_i=1\\n', '        nmax = len(self.X)\\n', '        if end>nmax: end=nmax\\n', '        if end<start: end=start\\n', '        frame_index_to_display = range(start, end+1, step)\\n', '        fnum = len(frame_index_to_display)\\n', '        for i in range(fnum):\\n', '            sf = fig.add_subplot(1, fnum, i+1)\\n', \"            sf.imshow(self.X[frame_index_to_display[i]], cmap='gray', interpolation='None')\\n\", '            plot_i += 1\\n', \"            sf.axis('off')\\n\", '            sf.set_title(str(frame_index_to_display[i]))\\n', '        plt.show()\\n', '\\n', '\\n', '    def two_d_mapping(self, X_1d):\\n', '        \"\"\"\\n', '        map 1-d array to a 2-d space with Self Organizing Maps technique. The map used here is defined by self.map_file\\n', '        \"\"\"\\n', '        try:\\n', '            Midx = np.loadtxt(self.map_file)\\n', '            T = X_1d.shape[0]\\n', '            n = Midx.shape[0] #or[1], Midx is square\\n', '            X_2d = np.empty((T,n,n))\\n', '            for i in range(n):\\n', '                for j in range(n):\\n', '                    X_2d[:,i,j] = X_1d[:, int(Midx[i,j])].reshape((T,))\\n', '            return X_2d\\n', '\\n', '        except Exception:\\n', '            vprint(self.verbose, traceback.format_exc())\\n', '            vprint (self.verbose, \"Error \\\\n Data has not been transformed to 2D array.\") \\n', '            return X_1d\\n', '             # retrain the map\\n', '\\n', '    def map_back_to_1d(self, X_2d):\\n', '        \"\"\"\\n', '        map 2-d array back to 1-d using the same maps for 1-d to 2-d (defined by self.map_file). This is useful when saving predictions\\n', '        for the reason of scoring.\\n', '\\n', '        \"\"\"\\n', '        try:\\n', '            Midx = np.loadtxt(self.map_file)\\n', '            try:\\n', \"                original_Xshape = np.array(h5py.File('./sample_data/train/Xm1/X1.h5','r')['X']['value']['X']['value'][:]).shape\\n\", '            except:\\n', '                vprint (self.verbose, \"Error: Cannot load ./sample_data/train/Xm1/X1.h5.\\\\n Use the default value (1916, 1) for 1d array\") \\n', '                original_Xshape = (12, 1916, 1)\\n', '            # print original_Xshape\\n', '            # print X_2d.shape\\n', '            T, n, _ = X_2d.shape\\n', '            X_1d = np.empty((T, original_Xshape[1], original_Xshape[2]))\\n', '            T,m,_ = X_1d.shape\\n', '            \\n', '            where = 0\\n', '            while where < m:\\n', '                for i in range(n):\\n', '                    for j in range(n):\\n', '                        if int(Midx[i,j]) == where:\\n', '                            X_1d[:, where]=X_2d[:,i,j].reshape(X_1d[:, where].shape)\\n', '                where += 1\\n', '            return X_1d\\n', '            \\n', '\\n', '        except Exception:\\n', '            vprint(self.verbose, traceback.format_exc())\\n', '            vprint (self.verbose, \"Error \\\\n Data has not been transformed back to 1D array.\") \\n', '            return X_2d\\n'], 32)\n",
      "./utilities/data_manager.pyc\n",
      "/Users/lishengsun/Downloads/zSee4C_starting_kit_Lisheng\n",
      "************************************************\n",
      "******** Processing data chunk number 2 ********\n",
      "************************************************\n",
      "Data Manager :: Version = 1\n",
      "Data Manager :: Version = 1\n",
      "Version = Persitent\n",
      "Model :: ========= Adapting model =========\n",
      "[+] Success, model adapted in  0.00 sec\n",
      "Model :: ========= Making predictions =========\n",
      "[+] Success, predictions made in  0.00 sec\n",
      "Data Manager :: ========= Saving data to /Users/lishengsun/Downloads/zSee4C_starting_kit_Lisheng/results/Y2.h5\n",
      "[+] Success in  0.00 sec\n",
      "[+] Done\n",
      "[+] Time spent  2.32 sec ::  Time budget 600.00 sec\n"
     ]
    }
   ],
   "source": [
    "max_steps = 3 # Change this to the number of steps you want to test\n",
    "for n in range(max_steps):\n",
    "    step_num = str(n)\n",
    "    !python predictSpatioTemporal.py $step_num $data_dir $out_dir $root_dir"
   ]
  },
  {
   "cell_type": "markdown",
   "metadata": {},
   "source": [
    "## Making your Submission\n",
    "\n",
    "Zip your code, including the <span style=\"color:red\">sample_code/</span> directory, and the two scripts <span style=\"color:red\">predictSpatioTemporal.py</span> and <span style=\"color:red\">predict.sh</span>."
   ]
  },
  {
   "cell_type": "code",
   "execution_count": 88,
   "metadata": {
    "collapsed": false
   },
   "outputs": [
    {
     "name": "stdout",
     "output_type": "stream",
     "text": [
      "Submit the file: ../sample_submission_17-06-23-23-34.zip\n"
     ]
    }
   ],
   "source": [
    "import datetime\n",
    "from data_io import zip_submission\n",
    "the_date = datetime.datetime.now().strftime(\"%y-%m-%d-%H-%M\")\n",
    "submission_filename = '../sample_submission_' + the_date + '.zip'\n",
    "zip_submission(submission_filename, root_dir)\n",
    "print(\"Submit the file: \" + submission_filename)"
   ]
  },
  {
   "cell_type": "code",
   "execution_count": null,
   "metadata": {
    "collapsed": true
   },
   "outputs": [],
   "source": []
  },
  {
   "cell_type": "code",
   "execution_count": null,
   "metadata": {
    "collapsed": true
   },
   "outputs": [],
   "source": []
  }
 ],
 "metadata": {
  "anaconda-cloud": {},
  "kernelspec": {
   "display_name": "Python 2",
   "language": "python",
   "name": "python2"
  },
  "language_info": {
   "codemirror_mode": {
    "name": "ipython",
    "version": 2
   },
   "file_extension": ".py",
   "mimetype": "text/x-python",
   "name": "python",
   "nbconvert_exporter": "python",
   "pygments_lexer": "ipython2",
   "version": "2.7.13"
  }
 },
 "nbformat": 4,
 "nbformat_minor": 2
}
